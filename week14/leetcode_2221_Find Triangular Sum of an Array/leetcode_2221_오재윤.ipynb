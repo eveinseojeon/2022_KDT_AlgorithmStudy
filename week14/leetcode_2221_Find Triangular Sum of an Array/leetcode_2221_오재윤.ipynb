{
 "cells": [
  {
   "cell_type": "code",
   "execution_count": null,
   "id": "87f59eb9",
   "metadata": {},
   "outputs": [],
   "source": [
    "class Solution(object):\n",
    "    def triangularSum(self, nums):\n",
    "        \"\"\"\n",
    "        :type nums: List[int]\n",
    "        :rtype: int\n",
    "        \"\"\"\n",
    "        k = len(nums)\n",
    "        curr = [1]\n",
    "        n = 1\n",
    "        for i in range(k - 1):\n",
    "            curr = [0] + curr\n",
    "            n += 1\n",
    "            for i in range(n - 1):\n",
    "                curr[i] = curr[i] + curr[i + 1]\n",
    "        total = 0\n",
    "        for i in range(k):\n",
    "            total += nums[i] * curr[i]\n",
    "        return total % 10"
   ]
  }
 ],
 "metadata": {
  "kernelspec": {
   "display_name": "Python 3 (ipykernel)",
   "language": "python",
   "name": "python3"
  },
  "language_info": {
   "codemirror_mode": {
    "name": "ipython",
    "version": 3
   },
   "file_extension": ".py",
   "mimetype": "text/x-python",
   "name": "python",
   "nbconvert_exporter": "python",
   "pygments_lexer": "ipython3",
   "version": "3.9.7"
  }
 },
 "nbformat": 4,
 "nbformat_minor": 5
}
