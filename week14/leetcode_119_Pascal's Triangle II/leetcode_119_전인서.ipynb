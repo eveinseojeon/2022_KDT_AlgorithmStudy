{
 "cells": [
  {
   "cell_type": "code",
   "execution_count": 6,
   "id": "282befb4",
   "metadata": {},
   "outputs": [
    {
     "name": "stdout",
     "output_type": "stream",
     "text": [
      "[1, 3, 3, 1]\n"
     ]
    }
   ],
   "source": [
    "rowIndex = 3\n",
    "# Output: [1,3,3,1]\n",
    "\n",
    "answer = [0] * (rowIndex+1)\n",
    "\n",
    "for i in range(rowIndex+1):\n",
    "    answer[i] = [0] * (i+1)\n",
    "    answer[i][0] = 1\n",
    "    answer[i][i] = 1\n",
    "\n",
    "    for j in range(1, i):\n",
    "        answer[i][j] = answer[i-1][j-1] + answer[i-1][j]\n",
    "\n",
    "print(answer[rowIndex])"
   ]
  }
 ],
 "metadata": {
  "kernelspec": {
   "display_name": "Python 3 (ipykernel)",
   "language": "python",
   "name": "python3"
  },
  "language_info": {
   "codemirror_mode": {
    "name": "ipython",
    "version": 3
   },
   "file_extension": ".py",
   "mimetype": "text/x-python",
   "name": "python",
   "nbconvert_exporter": "python",
   "pygments_lexer": "ipython3",
   "version": "3.9.7"
  }
 },
 "nbformat": 4,
 "nbformat_minor": 5
}
