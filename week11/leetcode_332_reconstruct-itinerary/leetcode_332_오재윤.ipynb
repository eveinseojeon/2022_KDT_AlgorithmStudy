{
 "cells": [
  {
   "cell_type": "code",
   "execution_count": null,
   "id": "603d8051",
   "metadata": {},
   "outputs": [],
   "source": [
    "# 구글링\n",
    "# collections 모듈을 대부분 사용...\n",
    "# defaultdict 을 사용하면 쉽게 딕셔너리를 만들 수 있음\n",
    "\n",
    "class Solution:\n",
    "    def findItinerary(self, tickets: List[List[str]]) -> List[str]:\n",
    "        graph = collections.defaultdict(list)   \n",
    "        \n",
    "        for _from, _to in sorted(tickets, reverse=True):\n",
    "            graph[_from].append(_to)\n",
    "            \n",
    "        route = []\n",
    "        \n",
    "        def dfs(departure: str):\n",
    "            while graph[departure]:\n",
    "                dfs(graph[departure].pop())\n",
    "            route.append(departure)\n",
    "            \n",
    "        dfs('JFK')\n",
    "        return route[::-1]   # 마지막에 역순으로(도착- 출발로 쌓여 있기 때문에) "
   ]
  }
 ],
 "metadata": {
  "kernelspec": {
   "display_name": "Python 3 (ipykernel)",
   "language": "python",
   "name": "python3"
  },
  "language_info": {
   "codemirror_mode": {
    "name": "ipython",
    "version": 3
   },
   "file_extension": ".py",
   "mimetype": "text/x-python",
   "name": "python",
   "nbconvert_exporter": "python",
   "pygments_lexer": "ipython3",
   "version": "3.9.7"
  }
 },
 "nbformat": 4,
 "nbformat_minor": 5
}
