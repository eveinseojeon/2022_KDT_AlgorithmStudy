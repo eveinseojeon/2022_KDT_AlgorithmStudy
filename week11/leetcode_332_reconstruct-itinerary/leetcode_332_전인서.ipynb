{
 "cells": [
  {
   "cell_type": "code",
   "execution_count": 4,
   "id": "b9f1a9ba",
   "metadata": {},
   "outputs": [
    {
     "name": "stdout",
     "output_type": "stream",
     "text": [
      "['JFK', 'ATL', 'JFK', 'SFO', 'ATL', 'SFO']\n"
     ]
    }
   ],
   "source": [
    "from collections import defaultdict\n",
    "tickets = [[\"JFK\",\"SFO\"],[\"JFK\",\"ATL\"],[\"SFO\",\"ATL\"],[\"ATL\",\"JFK\"],[\"ATL\",\"SFO\"]]\n",
    "\n",
    "answer = []\n",
    "\n",
    "graph = defaultdict(list) # 디폴트값이 list인 딕셔너리\n",
    "for dep, arr in sorted(tickets):\n",
    "    graph[dep].append(arr)\n",
    "# graph = {'ATL': ['JFK', 'SFO'], 'JFK': ['ATL', 'SFO'], 'SFO': ['ATL']}\n",
    "\n",
    "def dfs(start):\n",
    "    while graph[start]:\n",
    "        dfs(graph[start].pop(0))\n",
    "    answer.append(start)\n",
    "\n",
    "dfs('JFK')\n",
    "\n",
    "'''\n",
    "dfs('JFK')\n",
    "dfs('ATL')\n",
    "dfs('JFK')\n",
    "dfs('SFO')\n",
    "dfs('ATL')\n",
    "dfs('SFO')\n",
    "\n",
    "answer = ['SFO', 'ATL', 'SFO', 'JFK', 'ATL', 'JFK']\n",
    "'''\n",
    "\n",
    "print(answer[::-1])"
   ]
  },
  {
   "cell_type": "code",
   "execution_count": null,
   "id": "eb367a24",
   "metadata": {},
   "outputs": [],
   "source": []
  }
 ],
 "metadata": {
  "kernelspec": {
   "display_name": "Python 3 (ipykernel)",
   "language": "python",
   "name": "python3"
  },
  "language_info": {
   "codemirror_mode": {
    "name": "ipython",
    "version": 3
   },
   "file_extension": ".py",
   "mimetype": "text/x-python",
   "name": "python",
   "nbconvert_exporter": "python",
   "pygments_lexer": "ipython3",
   "version": "3.9.7"
  }
 },
 "nbformat": 4,
 "nbformat_minor": 5
}
