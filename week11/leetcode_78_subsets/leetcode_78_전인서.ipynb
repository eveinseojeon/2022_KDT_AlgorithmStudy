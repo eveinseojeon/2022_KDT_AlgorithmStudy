{
 "cells": [
  {
   "cell_type": "code",
   "execution_count": null,
   "id": "4d6efc4e",
   "metadata": {},
   "outputs": [],
   "source": [
    "class Solution:\n",
    "    def subsets(self, nums: List[int]) -> List[List[int]]:\n",
    "        answer = [[]]\n",
    "\n",
    "        def dfs(start, subset):\n",
    "            if len(subset) == n:\n",
    "                answer.append(subset.copy())\n",
    "                return\n",
    "            for i in range(start, len(nums)):\n",
    "                subset.append(nums[i])\n",
    "                dfs(i+1, subset)\n",
    "                subset.pop()\n",
    "\n",
    "        for n in range(1, len(nums)+1):\n",
    "            dfs(0, [])\n",
    "            \n",
    "        return answer\n"
   ]
  }
 ],
 "metadata": {
  "kernelspec": {
   "display_name": "Python 3 (ipykernel)",
   "language": "python",
   "name": "python3"
  },
  "language_info": {
   "codemirror_mode": {
    "name": "ipython",
    "version": 3
   },
   "file_extension": ".py",
   "mimetype": "text/x-python",
   "name": "python",
   "nbconvert_exporter": "python",
   "pygments_lexer": "ipython3",
   "version": "3.9.7"
  }
 },
 "nbformat": 4,
 "nbformat_minor": 5
}
