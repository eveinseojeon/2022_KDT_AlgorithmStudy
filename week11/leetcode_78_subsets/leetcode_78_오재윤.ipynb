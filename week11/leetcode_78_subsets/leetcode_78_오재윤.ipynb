{
 "cells": [
  {
   "cell_type": "code",
   "execution_count": null,
   "id": "c431f3fc",
   "metadata": {},
   "outputs": [],
   "source": [
    "# 부분집합을 구한다\n",
    "    def subsets(self, nums):\n",
    "        result = []\n",
    "        def dfs(start, visited):\n",
    "            result.append(visited)\n",
    "            for idx in range(start, len(nums)):\n",
    "                dfs(idx + 1, visited + [nums[idx]])\n",
    "        \n",
    "        dfs(0, [])\n",
    "        return result"
   ]
  }
 ],
 "metadata": {
  "kernelspec": {
   "display_name": "Python 3 (ipykernel)",
   "language": "python",
   "name": "python3"
  },
  "language_info": {
   "codemirror_mode": {
    "name": "ipython",
    "version": 3
   },
   "file_extension": ".py",
   "mimetype": "text/x-python",
   "name": "python",
   "nbconvert_exporter": "python",
   "pygments_lexer": "ipython3",
   "version": "3.9.7"
  }
 },
 "nbformat": 4,
 "nbformat_minor": 5
}
