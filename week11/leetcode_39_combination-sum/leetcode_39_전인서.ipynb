{
 "cells": [
  {
   "cell_type": "code",
   "execution_count": null,
   "id": "5c98b5f0",
   "metadata": {},
   "outputs": [],
   "source": [
    "class Solution:\n",
    "    def combinationSum(self, candidates: List[int], target: int) -> List[List[int]]:\n",
    "        answer = []\n",
    "\n",
    "        def dfs(subset, start):\n",
    "            if sum(subset) > target:\n",
    "                return\n",
    "\n",
    "            if sum(subset) == target:\n",
    "                answer.append(subset)\n",
    "                return\n",
    "\n",
    "            for i in range(start, len(candidates)):\n",
    "                dfs(subset + [candidates[i]], i)\n",
    "\n",
    "        dfs([], 0)\n",
    "        return answer\n",
    "    "
   ]
  }
 ],
 "metadata": {
  "kernelspec": {
   "display_name": "Python 3 (ipykernel)",
   "language": "python",
   "name": "python3"
  },
  "language_info": {
   "codemirror_mode": {
    "name": "ipython",
    "version": 3
   },
   "file_extension": ".py",
   "mimetype": "text/x-python",
   "name": "python",
   "nbconvert_exporter": "python",
   "pygments_lexer": "ipython3",
   "version": "3.9.7"
  }
 },
 "nbformat": 4,
 "nbformat_minor": 5
}
