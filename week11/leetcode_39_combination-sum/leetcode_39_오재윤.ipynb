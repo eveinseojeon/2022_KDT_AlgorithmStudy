{
 "cells": [
  {
   "cell_type": "code",
   "execution_count": null,
   "id": "89a0771f",
   "metadata": {},
   "outputs": [],
   "source": [
    "class Solution(object):\n",
    "    def combinationSum(self, candidates, target):\n",
    "        \"\"\"\n",
    "        :type candidates: List[int]\n",
    "        :type target: int\n",
    "        :rtype: List[List[int]]\n",
    "        \"\"\"\n",
    "        result = []\n",
    " \n",
    "        def dfs(stack, csum):\n",
    "            if csum == target:\n",
    "                result.append(stack)\n",
    "            elif csum > target:\n",
    "                return\n",
    "            for candidate in candidates:\n",
    "                dfs(stack + [candidate], csum + candidate)\n",
    " \n",
    "        dfs([], 0)\n",
    "        \n",
    "        results = []\n",
    "        # 중복이 있음 \n",
    "        for val in result:\n",
    "            a = sorted(val)\n",
    "            if a not in results:\n",
    "                results.append(a)\n",
    "        return results"
   ]
  },
  {
   "cell_type": "code",
   "execution_count": null,
   "id": "077968c7",
   "metadata": {},
   "outputs": [],
   "source": [
    "# 먼저 중복하지 않는 코드 구글링\n",
    "\n",
    "class Solution(object):\n",
    "    def combinationSum(self, candidates, target):\n",
    "        \"\"\"\n",
    "        :type candidates: List[int]\n",
    "        :type target: int\n",
    "        :rtype: List[List[int]]\n",
    "        \"\"\"\n",
    "        result = []\n",
    "        def dfs(csum,index,path):\n",
    "            if csum<0:\n",
    "                return \n",
    "            if csum==0:\n",
    "                result.append(path)\n",
    "                return \n",
    "            for i in range(index,len(candidates)):\n",
    "                dfs(csum-candidates[i],i,path+[candidates[i]])\n",
    "        dfs(target,0,[])\n",
    "        return result"
   ]
  }
 ],
 "metadata": {
  "kernelspec": {
   "display_name": "Python 3 (ipykernel)",
   "language": "python",
   "name": "python3"
  },
  "language_info": {
   "codemirror_mode": {
    "name": "ipython",
    "version": 3
   },
   "file_extension": ".py",
   "mimetype": "text/x-python",
   "name": "python",
   "nbconvert_exporter": "python",
   "pygments_lexer": "ipython3",
   "version": "3.9.12"
  }
 },
 "nbformat": 4,
 "nbformat_minor": 5
}
