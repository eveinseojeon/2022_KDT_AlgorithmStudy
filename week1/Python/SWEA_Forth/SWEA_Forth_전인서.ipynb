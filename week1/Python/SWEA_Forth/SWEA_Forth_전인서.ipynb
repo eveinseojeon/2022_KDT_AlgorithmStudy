{
 "cells": [
  {
   "cell_type": "code",
   "execution_count": 28,
   "id": "ec243cee",
   "metadata": {},
   "outputs": [
    {
     "name": "stdout",
     "output_type": "stream",
     "text": [
      "3\n",
      "10 2 + 3 4 + * .\n",
      "#1 84\n",
      "5 3 * + .\n",
      "#2 error\n",
      "1 5 8 10 3 4 + + 3 + * 2 + + + .\n",
      "#3 168\n"
     ]
    }
   ],
   "source": [
    "def forth(original):\n",
    "    stack = []\n",
    "    i = 0\n",
    "\n",
    "    while original[i] != '.':\n",
    "        # 숫자면 스택에 쌓기\n",
    "        if original[i].isdigit():\n",
    "            stack.append(original[i])\n",
    "\n",
    "        # 연산자이고 스택에 숫자가 두 개 이상이면 숫자를 추출해서 연산 수행\n",
    "        elif original[i] in ['+', '-', '*', '/'] and len(stack) >= 2:\n",
    "            second = int(stack.pop())\n",
    "            first = int(stack.pop())\n",
    "            \n",
    "            if original[i] == '+':\n",
    "                new = first + second\n",
    "            elif original[i] == '-':\n",
    "                new = first - second\n",
    "            elif original[i] == '*':\n",
    "                new = first * second\n",
    "            elif original[i] == '/':\n",
    "                new = first // second\n",
    "            \n",
    "            stack.append(new)\n",
    "\n",
    "        else:\n",
    "            return 'error'\n",
    "\n",
    "        i += 1\n",
    "    \n",
    "    if len(stack) == 1:\n",
    "        return stack[0]\n",
    "    \n",
    "    else:\n",
    "        return 'error'\n",
    "\n",
    "    \n",
    "T = int(input())\n",
    "for test_case in range(1, T + 1):\n",
    "    original = input().split()\n",
    "    print(f'#{test_case} {forth(original)}')\n"
   ]
  },
  {
   "cell_type": "code",
   "execution_count": null,
   "id": "5039a9db",
   "metadata": {},
   "outputs": [],
   "source": []
  }
 ],
 "metadata": {
  "kernelspec": {
   "display_name": "Python 3 (ipykernel)",
   "language": "python",
   "name": "python3"
  },
  "language_info": {
   "codemirror_mode": {
    "name": "ipython",
    "version": 3
   },
   "file_extension": ".py",
   "mimetype": "text/x-python",
   "name": "python",
   "nbconvert_exporter": "python",
   "pygments_lexer": "ipython3",
   "version": "3.9.7"
  }
 },
 "nbformat": 4,
 "nbformat_minor": 5
}
