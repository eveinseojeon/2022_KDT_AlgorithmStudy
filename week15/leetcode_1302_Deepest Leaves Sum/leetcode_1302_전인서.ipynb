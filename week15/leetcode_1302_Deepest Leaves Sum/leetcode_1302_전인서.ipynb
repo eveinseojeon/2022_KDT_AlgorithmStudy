{
 "cells": [
  {
   "cell_type": "markdown",
   "id": "2c8556e5",
   "metadata": {},
   "source": [
    "- discussion 찾아봄"
   ]
  },
  {
   "cell_type": "code",
   "execution_count": null,
   "id": "10725a66",
   "metadata": {},
   "outputs": [],
   "source": [
    "root = [1,2,3,4,5,None,6,7,None,None,None,None,8]\n",
    "# Output: 15\n",
    "\n",
    "class TreeNode:\n",
    "    def __init__(self, val=0, left=None, right=None):\n",
    "        self.val = val\n",
    "        self.left = left\n",
    "        self.right = right\n",
    "\n",
    "class Solution:\n",
    "    def deepestLeavesSum(self, root: [TreeNode]) -> int:\n",
    "        q = [root]\n",
    "        while q:\n",
    "            answer = 0\n",
    "            for _ in range(len(q)):\n",
    "                node = q.pop(0)\n",
    "                answer += node.val\n",
    "                if node.left:\n",
    "                    q.append(node.left)\n",
    "                if node.right:\n",
    "                    q.append(node.right)\n",
    "        return answer\n"
   ]
  }
 ],
 "metadata": {
  "kernelspec": {
   "display_name": "Python 3 (ipykernel)",
   "language": "python",
   "name": "python3"
  },
  "language_info": {
   "codemirror_mode": {
    "name": "ipython",
    "version": 3
   },
   "file_extension": ".py",
   "mimetype": "text/x-python",
   "name": "python",
   "nbconvert_exporter": "python",
   "pygments_lexer": "ipython3",
   "version": "3.9.7"
  }
 },
 "nbformat": 4,
 "nbformat_minor": 5
}
