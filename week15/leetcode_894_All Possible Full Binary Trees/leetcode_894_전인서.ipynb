{
 "cells": [
  {
   "cell_type": "markdown",
   "id": "9cf903a6",
   "metadata": {},
   "source": [
    "- discussion 찾아봄"
   ]
  },
  {
   "cell_type": "code",
   "execution_count": null,
   "id": "5156fa7a",
   "metadata": {},
   "outputs": [],
   "source": [
    "n = 7\n",
    "# Output: [[0,0,0,null,null,0,0,null,null,0,0],\n",
    "#          [0,0,0,null,null,0,0,0,0],\n",
    "#          [0,0,0,0,0,0,0],\n",
    "#          [0,0,0,0,0,null,null,null,null,0,0],\n",
    "#          [0,0,0,0,0,null,null,0,0]]\n",
    "\n",
    "class TreeNode:\n",
    "    def __init__(self, val=0, left=None, right=None):\n",
    "        self.val = val\n",
    "        self.left = left\n",
    "        self.right = right\n",
    "\n",
    "class Solution:\n",
    "    def allPossibleFBT(self, n: int) -> List[Optional[TreeNode]]:\n",
    "        dp = {0:[], 1:[TreeNode()]}\n",
    "        \n",
    "        def backtrack(n):\n",
    "            if n in dp:\n",
    "                return dp[n]\n",
    "            \n",
    "            res = []\n",
    "            for l in range(n):\n",
    "                r = n - l - 1\n",
    "                \n",
    "                lefttrees = backtrack(l)\n",
    "                righttrees = backtrack(r)\n",
    "                \n",
    "                for t1 in lefttrees:\n",
    "                    for t2 in righttrees:\n",
    "                        res.append(TreeNode(0, t1, t2))\n",
    "            \n",
    "            dp[n] = res\n",
    "            return res\n",
    "        \n",
    "        return backtrack(n)\n"
   ]
  }
 ],
 "metadata": {
  "kernelspec": {
   "display_name": "Python 3 (ipykernel)",
   "language": "python",
   "name": "python3"
  },
  "language_info": {
   "codemirror_mode": {
    "name": "ipython",
    "version": 3
   },
   "file_extension": ".py",
   "mimetype": "text/x-python",
   "name": "python",
   "nbconvert_exporter": "python",
   "pygments_lexer": "ipython3",
   "version": "3.9.7"
  }
 },
 "nbformat": 4,
 "nbformat_minor": 5
}
