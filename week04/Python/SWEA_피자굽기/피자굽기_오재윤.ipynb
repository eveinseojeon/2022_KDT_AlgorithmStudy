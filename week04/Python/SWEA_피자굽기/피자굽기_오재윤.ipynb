{
 "cells": [
  {
   "cell_type": "code",
   "execution_count": null,
   "id": "cf244349",
   "metadata": {},
   "outputs": [],
   "source": [
    "피자굽기\n",
    "이거는 문제 이해도 못했다\n",
    "근데 회전과 비슷한 문제라고 함"
   ]
  },
  {
   "cell_type": "code",
   "execution_count": null,
   "id": "dd191b82",
   "metadata": {},
   "outputs": [],
   "source": [
    "1.처음 입력받은 피자의 원소에서 인덱스를 함께 저장한다.\n",
    "2.값을 반으로 줄이며 회전하다가 0이 되면 큐에서 제외시킨다.\n",
    "3.큐에 여분 공간이 있고 피자에 원소가 남아있다면 큐에 추가한다.\n",
    "4.큐에 원소가 한 개가 남을 때까지 반복한다."
   ]
  },
  {
   "cell_type": "code",
   "execution_count": null,
   "id": "b4ae04d0",
   "metadata": {},
   "outputs": [],
   "source": [
    "# 코드는 구글링\n",
    "\n",
    "from collections import deque\n",
    "# import sys\n",
    "# sys.stdin = open('input.txt')\n",
    "# 테스트케이스 입력\n",
    "T = int(input())\n",
    "for tc in range(1, T+1):\n",
    "    n, m = map(int, input().split())\n",
    "    # 피자의 원소가 몇 번째 원소인지를 함께 저장한다.\n",
    "    pizza = deque(enumerate(list(map(int,input().split())), 1))\n",
    "    oven = deque()\n",
    "    # 오븐 최대 용량까지 피자를 넣어준다.\n",
    "    for _ in range(n):\n",
    "        oven.append(pizza.popleft())\n",
    "    # 피자가 한개가 남을 때까지 진행\n",
    "    while len(oven) > 1:\n",
    "        # 공간이 비었는데 피자가 아직 남아있다면 추가해준다.\n",
    "        if len(oven) < n and pizza:\n",
    "            oven.append(pizza.popleft())\n",
    "        idx, c = oven.popleft()\n",
    "        # 치즈 양이 0 이라면 제거해준다.\n",
    "        if not c//2:\n",
    "            continue\n",
    "        # 치즈가 남아있다면 뒤에 추가해준다.\n",
    "        else:\n",
    "            oven.append((idx, c//2))\n",
    "    print('#{} {}'.format(tc, oven.popleft()[0]))"
   ]
  }
 ],
 "metadata": {
  "kernelspec": {
   "display_name": "Python 3 (ipykernel)",
   "language": "python",
   "name": "python3"
  },
  "language_info": {
   "codemirror_mode": {
    "name": "ipython",
    "version": 3
   },
   "file_extension": ".py",
   "mimetype": "text/x-python",
   "name": "python",
   "nbconvert_exporter": "python",
   "pygments_lexer": "ipython3",
   "version": "3.9.7"
  }
 },
 "nbformat": 4,
 "nbformat_minor": 5
}
