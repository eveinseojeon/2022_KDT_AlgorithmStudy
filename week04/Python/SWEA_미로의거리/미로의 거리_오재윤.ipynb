{
 "cells": [
  {
   "cell_type": "code",
   "execution_count": null,
   "id": "d3ff34d2",
   "metadata": {},
   "outputs": [],
   "source": [
    "def bfs(y, x):\n",
    "    distance = [[0 for _ in range(N)] for _ in range(N)]\n",
    "    q = [(y, x)]\n",
    "\n",
    "    dxy = [(0, 1), (1, 0), (0, -1), (-1, 0)]  \n",
    "    while q:\n",
    "        y, x = q.pop(0)\n",
    "        if maze[y][x] == 0 or 2:\n",
    "            maze[y][x] = 1\n",
    "\n",
    "            for dy, dx in dxy:\n",
    "                ny, nx = y + dy, x + dx\n",
    "\n",
    "                if 0 <= ny <= N-1 and 0 <= nx <= N-1:\n",
    "                    if maze[ny][nx] == 0:\n",
    "                        distance[ny][nx] = distance[y][x] + 1\n",
    "                        q.append((ny, nx))\n",
    "                    elif maze[ny][nx] == 3:\n",
    "                        return distance[y][x]\n",
    "    return 0\n",
    "\n",
    "T = int(input())\n",
    "for tc in range(1, T+1):\n",
    "    N = int(input())\n",
    "    maze = [list(map(int, list(input()))) for _ in range(N)]\n",
    "    for i in range(N):\n",
    "        if 2 in maze[i]:\n",
    "            sy, sx = i, maze[i].index(2)\n",
    "            break\n",
    "    print('#{} {}'.format(tc, bfs(sy, sx)))"
   ]
  }
 ],
 "metadata": {
  "kernelspec": {
   "display_name": "Python 3.10.6 64-bit",
   "language": "python",
   "name": "python3"
  },
  "language_info": {
   "codemirror_mode": {
    "name": "ipython",
    "version": 3
   },
   "file_extension": ".py",
   "mimetype": "text/x-python",
   "name": "python",
   "nbconvert_exporter": "python",
   "pygments_lexer": "ipython3",
   "version": "3.10.6"
  },
  "vscode": {
   "interpreter": {
    "hash": "6cd11627e3a7dff4ca7753b54e639a67e890de98b68b2591d40831de52ef930e"
   }
  }
 },
 "nbformat": 4,
 "nbformat_minor": 5
}
