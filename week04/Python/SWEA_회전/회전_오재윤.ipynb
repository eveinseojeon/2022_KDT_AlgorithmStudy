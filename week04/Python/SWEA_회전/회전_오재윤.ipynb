{
 "cells": [
  {
   "cell_type": "code",
   "execution_count": null,
   "id": "7c98cf74",
   "metadata": {},
   "outputs": [],
   "source": [
    "deque 에 관한 설명\n",
    "https://dongdongfather.tistory.com/72"
   ]
  },
  {
   "cell_type": "code",
   "execution_count": null,
   "id": "17ac0540",
   "metadata": {},
   "outputs": [],
   "source": [
    "from collections import deque\n",
    "T = int(input())\n",
    "for tc in range(1, T + 1):\n",
    "    n, m = map(int, input().split())\n",
    "    q = deque(list(map(int, input().split())))\n",
    "    cnt = 0\n",
    "    while cnt < m :\n",
    "        q.append(q.popleft())\n",
    "        cnt += 1\n",
    "    print('#{} {}'.format(tc, q.popleft()))"
   ]
  },
  {
   "cell_type": "code",
   "execution_count": null,
   "id": "060a20d1",
   "metadata": {},
   "outputs": [],
   "source": [
    "n개로 이루어진 숫수열에서 맨앞의 숫자를 뒤로보내는 것을 m번 수행할때 맨 앞에 있는 숫자 출력하기"
   ]
  }
 ],
 "metadata": {
  "kernelspec": {
   "display_name": "Python 3 (ipykernel)",
   "language": "python",
   "name": "python3"
  },
  "language_info": {
   "codemirror_mode": {
    "name": "ipython",
    "version": 3
   },
   "file_extension": ".py",
   "mimetype": "text/x-python",
   "name": "python",
   "nbconvert_exporter": "python",
   "pygments_lexer": "ipython3",
   "version": "3.9.7"
  }
 },
 "nbformat": 4,
 "nbformat_minor": 5
}
