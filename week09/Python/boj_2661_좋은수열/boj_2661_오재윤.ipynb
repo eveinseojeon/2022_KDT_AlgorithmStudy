{
 "cells": [
  {
   "cell_type": "code",
   "execution_count": null,
   "id": "8a7ca856",
   "metadata": {},
   "outputs": [],
   "source": [
    "# 먼저 좋은수열인지 판단하고 나서\n",
    "# 좋은 수열이면 해당 자릿수까지 백트래킹 진행\n",
    "# 완성은 구글링의 도움을 받았음;;\n",
    "\n",
    "import sys\n",
    "\n",
    "def GoodArr(arr):\n",
    "    arr_len = len(arr)\n",
    "    for part_len in range(1, arr_len // 2 + 1):\n",
    "        for part_start in range(part_len, arr_len - part_len + 1):\n",
    "            if arr[part_start - part_len:part_start] == arr[part_start:part_start + part_len]:\n",
    "                return False\n",
    "    else:\n",
    "        return True\n",
    "\n",
    "    # 백트래킹\n",
    "def dfs(arr, depth):\n",
    "    if depth == N:\n",
    "        print(\"\".join(list(map(str, arr))))\n",
    "        sys.exit()\n",
    "    arr.append(1)\n",
    "    for i in range(1, 4):\n",
    "        arr.pop()\n",
    "        arr.append(i)\n",
    "        if GoodArr(arr):\n",
    "            if not dfs(arr, depth + 1):\n",
    "                continue\n",
    "    else:\n",
    "        arr.pop()\n",
    "        return False\n",
    "\n",
    "N = int(input())\n",
    "dfs([1], 1)"
   ]
  },
  {
   "cell_type": "code",
   "execution_count": null,
   "id": "2ca75f09",
   "metadata": {},
   "outputs": [],
   "source": [
    "# 훨씬 간단한 코드가 있었음 구글링으로 가져왔음 \n",
    "\n",
    "# 좋은수열\n",
    "def choose_num(result, count):\n",
    "    for i in range(1, count//2+1):\n",
    "        if str(result)[count-i:] == str(result)[count-2*i:count-i]:\n",
    "            return\n",
    "    if count == N:\n",
    "        print(result)\n",
    "        exit(0)\n",
    "    for i in range(1, 4):\n",
    "        temp = result * 10 + i\n",
    "        choose_num(temp, count+1)\n",
    "\n",
    "\n",
    "N = int(input())\n",
    "choose_num(0, 0)"
   ]
  },
  {
   "cell_type": "code",
   "execution_count": null,
   "id": "ca0d3956",
   "metadata": {},
   "outputs": [],
   "source": []
  },
  {
   "cell_type": "code",
   "execution_count": null,
   "id": "4803ca20",
   "metadata": {},
   "outputs": [],
   "source": []
  }
 ],
 "metadata": {
  "kernelspec": {
   "display_name": "Python 3 (ipykernel)",
   "language": "python",
   "name": "python3"
  },
  "language_info": {
   "codemirror_mode": {
    "name": "ipython",
    "version": 3
   },
   "file_extension": ".py",
   "mimetype": "text/x-python",
   "name": "python",
   "nbconvert_exporter": "python",
   "pygments_lexer": "ipython3",
   "version": "3.9.7"
  }
 },
 "nbformat": 4,
 "nbformat_minor": 5
}
