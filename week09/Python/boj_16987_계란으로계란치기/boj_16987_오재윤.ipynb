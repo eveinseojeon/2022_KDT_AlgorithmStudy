{
 "cells": [
  {
   "cell_type": "code",
   "execution_count": 1,
   "id": "463284e6",
   "metadata": {},
   "outputs": [
    {
     "name": "stdout",
     "output_type": "stream",
     "text": [
      "3\n",
      "8 5\n",
      "1 100\n",
      "3 5\n",
      "3\n"
     ]
    }
   ],
   "source": [
    "N = int(input())\n",
    "eggs = list()\n",
    "\n",
    "for _ in range(N):\n",
    "    eggs.append(list(map(int, input().split())))\n",
    "\n",
    "answer = 0\n",
    "def dfs(eggs, idx):\n",
    "    global answer\n",
    "    if idx == N:\n",
    "        answer = max(answer, len([s for s,w in eggs if s < 1]))\n",
    "        return\n",
    "\n",
    "    if eggs[idx][0] < 1:\n",
    "        dfs(eggs, idx+1)\n",
    "        return\n",
    "\n",
    "    if len([s for s,w in eggs if s < 1]) >= N-1:\n",
    "        answer = max(answer, N-1)\n",
    "        return\n",
    "\n",
    "    for target in range(N):\n",
    "        if target != idx and eggs[target][0] > 0:\n",
    "            eggs[target][0] -= eggs[idx][1]\n",
    "            eggs[idx][0] -= eggs[target][1]\n",
    "            dfs(eggs, idx+1)\n",
    "            eggs[target][0] += eggs[idx][1]\n",
    "            eggs[idx][0] += eggs[target][1]\n",
    "\n",
    "dfs(eggs, 0)\n",
    "print(answer)"
   ]
  },
  {
   "cell_type": "code",
   "execution_count": null,
   "id": "720b8151",
   "metadata": {},
   "outputs": [],
   "source": []
  }
 ],
 "metadata": {
  "kernelspec": {
   "display_name": "Python 3 (ipykernel)",
   "language": "python",
   "name": "python3"
  },
  "language_info": {
   "codemirror_mode": {
    "name": "ipython",
    "version": 3
   },
   "file_extension": ".py",
   "mimetype": "text/x-python",
   "name": "python",
   "nbconvert_exporter": "python",
   "pygments_lexer": "ipython3",
   "version": "3.9.7"
  }
 },
 "nbformat": 4,
 "nbformat_minor": 5
}
