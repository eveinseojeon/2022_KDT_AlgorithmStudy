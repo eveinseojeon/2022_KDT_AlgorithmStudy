{
 "cells": [
  {
   "cell_type": "markdown",
   "id": "ed11a65c",
   "metadata": {},
   "source": [
    "모든 경우의 조합을 만들어 비교하려했으나 시간관계상인지 안됨 테스트케이스만 통과"
   ]
  },
  {
   "cell_type": "code",
   "execution_count": null,
   "id": "5f72b05f",
   "metadata": {},
   "outputs": [],
   "source": [
    "import itertools\n",
    "for sd in range(int(input())):\n",
    "    a=list(range(int(input())))\n",
    "    map_=[list(map(int,input().split())) for _ in range(len(a))]\n",
    "    result_=30\n",
    "    for i in list(itertools.permutations(a)):\n",
    "        sum_=0\n",
    "        for z in range(len(i)):\n",
    "            sum_+=map_[z][i[z]]\n",
    "            if result_<= sum_:\n",
    "                break\n",
    "        if result_==0 or result_>=sum_ :\n",
    "            result_=sum_\n",
    "    print(f\"#{sd+1} {result_}\")"
   ]
  },
  {
   "cell_type": "markdown",
   "id": "2aff1a50",
   "metadata": {},
   "source": [
    "인터넷보고 가져온 답안"
   ]
  },
  {
   "cell_type": "code",
   "execution_count": null,
   "id": "74559a7c",
   "metadata": {},
   "outputs": [],
   "source": [
    "def section_sum(idx, total):\n",
    "    global answer\n",
    "\n",
    "    if idx == N:\n",
    "        if total < answer:\n",
    "            answer = total\n",
    "            return\n",
    "\n",
    "    if total > answer:\n",
    "        return\n",
    "\n",
    "    for i in range(N):\n",
    "        if i not in visited:\n",
    "            visited.append(i)\n",
    "            section_sum(idx+1, total+matrix[idx][i])\n",
    "            visited.pop()\n",
    "\n",
    "T = int(input())\n",
    "for tc in range(1, T+1):\n",
    "    N = int(input())\n",
    "    matrix = [list(map(int, input().split())) for _ in range(N)]\n",
    "    answer = 30\n",
    "    visited = []\n",
    "    section_sum(0, 0)\n",
    "    print('#{} {}'.format(tc, answer))"
   ]
  }
 ],
 "metadata": {
  "kernelspec": {
   "display_name": "Python 3 (ipykernel)",
   "language": "python",
   "name": "python3"
  },
  "language_info": {
   "codemirror_mode": {
    "name": "ipython",
    "version": 3
   },
   "file_extension": ".py",
   "mimetype": "text/x-python",
   "name": "python",
   "nbconvert_exporter": "python",
   "pygments_lexer": "ipython3",
   "version": "3.9.12"
  }
 },
 "nbformat": 4,
 "nbformat_minor": 5
}
