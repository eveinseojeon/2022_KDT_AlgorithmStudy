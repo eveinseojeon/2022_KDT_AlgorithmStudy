{
 "cells": [
  {
   "cell_type": "code",
   "execution_count": null,
   "id": "c14e4ac9",
   "metadata": {},
   "outputs": [],
   "source": [
    "T = int(input())\n",
    "for idx in range(T):\n",
    "    stack = []\n",
    "    testcase = list(input().split())\n",
    "    for i in range(len(testcase)):\n",
    "        if testcase[i].isdecimal() :\n",
    "            num =  int(testcase[i])\n",
    "            stack.append(num)\n",
    "        else:\n",
    "            if testcase[i] == '.' :\n",
    "                if len(stack) == 1:\n",
    "                    print(f\"#{idx+1} {stack[-1]}\")\n",
    "                else :\n",
    "                    print(f\"#{idx+1} error\")\n",
    "                break\n",
    "            elif len(stack) < 2:\n",
    "                print(f\"#{idx+1} error\")\n",
    "                break\n",
    "            stack1 = stack.pop()\n",
    "            stack2 = stack.pop()\n",
    "            if testcase[i] == \"+\":\n",
    "                stack.append(stack2 + stack1)\n",
    "            elif testcase[i] == \"-\":\n",
    "                stack.append(stack2 - stack1)\n",
    "            elif testcase[i] == \"*\":\n",
    "                stack.append(stack2 * stack1)\n",
    "            elif testcase[i] == \"/\":\n",
    "                stack.append(stack2 // stack1)"
   ]
  }
 ],
 "metadata": {
  "kernelspec": {
   "display_name": "Python 3 (ipykernel)",
   "language": "python",
   "name": "python3"
  },
  "language_info": {
   "codemirror_mode": {
    "name": "ipython",
    "version": 3
   },
   "file_extension": ".py",
   "mimetype": "text/x-python",
   "name": "python",
   "nbconvert_exporter": "python",
   "pygments_lexer": "ipython3",
   "version": "3.9.12"
  }
 },
 "nbformat": 4,
 "nbformat_minor": 5
}
