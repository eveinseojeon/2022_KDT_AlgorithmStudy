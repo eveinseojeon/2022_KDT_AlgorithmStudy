{
 "cells": [
  {
   "cell_type": "code",
   "execution_count": 24,
   "id": "5039a9db",
   "metadata": {},
   "outputs": [
    {
     "name": "stdout",
     "output_type": "stream",
     "text": [
      "1\n",
      "5\n",
      "13101\n",
      "10101\n",
      "10101\n",
      "10101\n",
      "10021\n",
      "#1 1\n"
     ]
    }
   ],
   "source": [
    "def dfs(x, y):\n",
    "    global result\n",
    "    \n",
    "    # 스택에 시작좌표 넣기\n",
    "    visited.append((x, y))\n",
    "    \n",
    "    dx = [-1, 1, 0, 0]\n",
    "    dy = [0, 0, -1, 1]\n",
    "    \n",
    "    if maze[x][y] == 3:\n",
    "        result = 1\n",
    "        return\n",
    "    \n",
    "    for j in range(4):\n",
    "        nx = x + dx[j]\n",
    "        ny = y + dy[j]\n",
    "        if nx>=0 and nx<N and ny>=0 and ny<N and (maze[nx][ny]==0 or maze[nx][ny]==3)\n",
    "        and (nx, ny) not in visited:\n",
    "            dfs(nx, ny)\n",
    "\n",
    "\n",
    "T = int(input())\n",
    "for test_case in range(1, T + 1):  \n",
    "    N = int(input())\n",
    "    maze = [list(map(int, input())) for _ in range(N)]\n",
    "    \n",
    "    # 시작점(2) 찾기\n",
    "    for i in range(N):\n",
    "        for j in range(N):\n",
    "            if maze[i][j] == 2:\n",
    "                x = i\n",
    "                y = j\n",
    "                break\n",
    "    \n",
    "    visited = []\n",
    "    result = 0\n",
    "    dfs(x, y)\n",
    "    print(f'#{test_case} {result}')\n"
   ]
  },
  {
   "cell_type": "code",
   "execution_count": null,
   "id": "cf1f8ca1",
   "metadata": {},
   "outputs": [],
   "source": []
  }
 ],
 "metadata": {
  "kernelspec": {
   "display_name": "Python 3 (ipykernel)",
   "language": "python",
   "name": "python3"
  },
  "language_info": {
   "codemirror_mode": {
    "name": "ipython",
    "version": 3
   },
   "file_extension": ".py",
   "mimetype": "text/x-python",
   "name": "python",
   "nbconvert_exporter": "python",
   "pygments_lexer": "ipython3",
   "version": "3.9.7"
  }
 },
 "nbformat": 4,
 "nbformat_minor": 5
}
