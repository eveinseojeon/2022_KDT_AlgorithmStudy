{
 "cells": [
  {
   "cell_type": "markdown",
   "id": "7e0d46eb-98d2-4300-a0a7-ca57d8f8b6a0",
   "metadata": {},
   "source": [
    "### 재귀 구조 브루트 포스"
   ]
  },
  {
   "cell_type": "code",
   "execution_count": 27,
   "id": "aeead2e9",
   "metadata": {},
   "outputs": [],
   "source": [
    "def recursive_fib(n:int)-> int:\n",
    "    if n <= 1:\n",
    "        return n\n",
    "    else:\n",
    "        return recursive_fib(n-1) + recursive_fib(n-2)\n",
    "    \n",
    "\n",
    "def tabulation_fib(n):\n",
    "    table = [ 0 for index in range(n + 1)]\n",
    "    table[0] = 1\n",
    "    table[1] = 1\n",
    "    for i in range(2, n+1):\n",
    "        table[i] = table[i-1] + table[i-2]\n",
    "            w\n",
    "    return table[n]\n",
    "\n",
    "\n",
    "n=5\n",
    "cache = [ 0 for index in range(n + 1)]\n",
    "def memorization_fib(n):\n",
    "    if n <= 1 :\n",
    "        return n\n",
    "    \n",
    "    if cache[n]:\n",
    "        return cache[n]\n",
    "    \n",
    "    cache[n] = memorization_fib(n-1) + memorization_fib(n-2)\n",
    "    return cache[n]"
   ]
  },
  {
   "cell_type": "code",
   "execution_count": null,
   "id": "3748b363",
   "metadata": {},
   "outputs": [],
   "source": [
    "n=5\n",
    "cache = [ 0 for index in range(n + 1)]\n",
    "def memoiation_fib(n):\n",
    "    if n <= 1 :\n",
    "        return n\n",
    "    \n",
    "    if cache[n]:\n",
    "        return cache[n]\n",
    "    \n",
    "    cache[n] = memoiation_fib(n-1) + memoiation_fib(n-2)\n",
    "    return cache[n]"
   ]
  },
  {
   "cell_type": "code",
   "execution_count": 42,
   "id": "c712ef42",
   "metadata": {},
   "outputs": [
    {
     "name": "stdout",
     "output_type": "stream",
     "text": [
      "5\n"
     ]
    }
   ],
   "source": [
    "def recursive_fib(n:int)-> int:\n",
    "    if n <= 1:\n",
    "        return n\n",
    "    else:\n",
    "        return recursive_fib(n-1) + recursive_fib(n-2)\n",
    "    \n",
    "print(recursive_fib(5))"
   ]
  },
  {
   "cell_type": "code",
   "execution_count": 28,
   "id": "9d246da7",
   "metadata": {},
   "outputs": [
    {
     "data": {
      "text/plain": [
       "5"
      ]
     },
     "execution_count": 28,
     "metadata": {},
     "output_type": "execute_result"
    }
   ],
   "source": [
    "memorization_fib(5)"
   ]
  },
  {
   "cell_type": "code",
   "execution_count": 36,
   "id": "25984d6a",
   "metadata": {},
   "outputs": [
    {
     "data": {
      "text/plain": [
       "5"
      ]
     },
     "execution_count": 36,
     "metadata": {},
     "output_type": "execute_result"
    }
   ],
   "source": [
    "tabulation_fib(5)"
   ]
  },
  {
   "cell_type": "code",
   "execution_count": 37,
   "id": "c787de22",
   "metadata": {},
   "outputs": [
    {
     "name": "stdout",
     "output_type": "stream",
     "text": [
      "1\n",
      "0\n",
      "1\n",
      "1\n",
      "0\n",
      "1\n",
      "0\n",
      "1\n"
     ]
    },
    {
     "data": {
      "text/plain": [
       "5"
      ]
     },
     "execution_count": 37,
     "metadata": {},
     "output_type": "execute_result"
    }
   ],
   "source": [
    "recursive_fib(5)"
   ]
  },
  {
   "cell_type": "code",
   "execution_count": 33,
   "id": "bacf56c8",
   "metadata": {},
   "outputs": [],
   "source": [
    "def tabulation_fib(n):\n",
    "    table = [ 0 for index in range(n + 1)]\n",
    "    table[0] = 0\n",
    "    table[1] = 1\n",
    "    for i in range(2, n+1):\n",
    "        table[i] = table[i-1] + table[i-2]\n",
    "        \n",
    "    return table[n]"
   ]
  },
  {
   "cell_type": "code",
   "execution_count": 21,
   "id": "a23be63d",
   "metadata": {},
   "outputs": [],
   "source": [
    "n = 5"
   ]
  },
  {
   "cell_type": "code",
   "execution_count": 13,
   "id": "e4c67abb",
   "metadata": {},
   "outputs": [],
   "source": [
    "cache = [ 0 for index in range(n + 1)]\n",
    "def memorization_fib(n):\n",
    "    if n <= 1 :\n",
    "        return n\n",
    "    \n",
    "    if cache[n]:\n",
    "        return cache[n]\n",
    "    \n",
    "    cache[n] = memorization_fib(n-1) + memorization_fib(n-2)\n",
    "    return cache[n]"
   ]
  },
  {
   "cell_type": "code",
   "execution_count": 14,
   "id": "990a3e1a",
   "metadata": {},
   "outputs": [
    {
     "data": {
      "text/plain": [
       "3"
      ]
     },
     "execution_count": 14,
     "metadata": {},
     "output_type": "execute_result"
    }
   ],
   "source": [
    "memorization_fib(n)"
   ]
  },
  {
   "cell_type": "code",
   "execution_count": 17,
   "id": "f4642020",
   "metadata": {},
   "outputs": [
    {
     "data": {
      "text/plain": [
       "3"
      ]
     },
     "execution_count": 17,
     "metadata": {},
     "output_type": "execute_result"
    }
   ],
   "source": [
    "recursive_fib(4)"
   ]
  },
  {
   "cell_type": "code",
   "execution_count": 20,
   "id": "0d86395e",
   "metadata": {},
   "outputs": [
    {
     "data": {
      "text/plain": [
       "5"
      ]
     },
     "execution_count": 20,
     "metadata": {},
     "output_type": "execute_result"
    }
   ],
   "source": [
    "tabulation_fib(4)"
   ]
  },
  {
   "cell_type": "code",
   "execution_count": 54,
   "id": "2e4fbeab-7a66-4655-9464-facf9601c033",
   "metadata": {},
   "outputs": [],
   "source": [
    "import collections\n",
    "class solution:\n",
    "    dp = collections.defaultdict()\n",
    "    \n",
    "    def fib(self,n):\n",
    "        #self.dp = dp\n",
    "        if n<=1:\n",
    "            return n\n",
    "        \n",
    "        if self.dp[n]:\n",
    "            return self.dp[n]\n",
    "    \n",
    "        self.dp[n] = self.fib(n-1) +self(n-2)\n",
    "        return self.dp[n]"
   ]
  },
  {
   "cell_type": "code",
   "execution_count": 55,
   "id": "0e7ad0f1-ec5c-4b94-9f09-605d946a7665",
   "metadata": {},
   "outputs": [],
   "source": [
    "a = solution()"
   ]
  },
  {
   "cell_type": "code",
   "execution_count": 47,
   "id": "9f1046b6-bdf0-4771-984a-c46b1192f873",
   "metadata": {},
   "outputs": [],
   "source": [
    "from collections import defaultdict\n",
    "\n",
    "list_dict = defaultdict(list)"
   ]
  },
  {
   "cell_type": "code",
   "execution_count": 48,
   "id": "a9a7d874",
   "metadata": {},
   "outputs": [
    {
     "data": {
      "text/plain": [
       "[]"
      ]
     },
     "execution_count": 48,
     "metadata": {},
     "output_type": "execute_result"
    }
   ],
   "source": [
    "list_dict['A']"
   ]
  },
  {
   "cell_type": "code",
   "execution_count": 45,
   "id": "60b858f3-1a5c-49cc-b945-fa5ee1b3091a",
   "metadata": {},
   "outputs": [
    {
     "data": {
      "text/plain": [
       "0"
      ]
     },
     "execution_count": 45,
     "metadata": {},
     "output_type": "execute_result"
    }
   ],
   "source": [
    "int_dict['A']"
   ]
  },
  {
   "cell_type": "code",
   "execution_count": 46,
   "id": "c9164232",
   "metadata": {},
   "outputs": [
    {
     "data": {
      "text/plain": [
       "defaultdict(int, {'A': 0})"
      ]
     },
     "execution_count": 46,
     "metadata": {},
     "output_type": "execute_result"
    }
   ],
   "source": [
    "int_dict"
   ]
  },
  {
   "cell_type": "code",
   "execution_count": null,
   "id": "5bcf9943",
   "metadata": {},
   "outputs": [],
   "source": [
    "def dq_fib(n):\n",
    "    M = np.matrix([[0,1],\n",
    "                   [1,1]])\n",
    "    vec = np.array([[0],\n",
    "                    [1]])\n",
    "    return np.matmul((M**n),vec)[0]"
   ]
  }
 ],
 "metadata": {
  "kernelspec": {
   "display_name": "Python 3.10.6 ('강의-OvKzE_8u')",
   "language": "python",
   "name": "python3"
  },
  "language_info": {
   "codemirror_mode": {
    "name": "ipython",
    "version": 3
   },
   "file_extension": ".py",
   "mimetype": "text/x-python",
   "name": "python",
   "nbconvert_exporter": "python",
   "pygments_lexer": "ipython3",
   "version": "3.10.6"
  },
  "vscode": {
   "interpreter": {
    "hash": "134f7187015489d0113f257137adc448a2ea39aba08bdb73188dbb95d254e1b7"
   }
  },
  "widgets": {
   "application/vnd.jupyter.widget-state+json": {
    "state": {},
    "version_major": 2,
    "version_minor": 0
   }
  }
 },
 "nbformat": 4,
 "nbformat_minor": 5
}
