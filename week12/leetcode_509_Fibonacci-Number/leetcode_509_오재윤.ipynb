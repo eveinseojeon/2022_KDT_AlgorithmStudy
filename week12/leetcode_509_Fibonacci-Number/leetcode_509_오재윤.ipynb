{
 "cells": [
  {
   "cell_type": "code",
   "execution_count": 1,
   "id": "d75134b8",
   "metadata": {},
   "outputs": [],
   "source": [
    "def fibo(n):\n",
    "    if n <= 1:\n",
    "        return n\n",
    "    if dp[n]:\n",
    "        return dp[n]\n",
    "    dp[n] = fibo(n-1) + fibo(n-2)\n",
    "    return dp[n]"
   ]
  },
  {
   "cell_type": "code",
   "execution_count": null,
   "id": "b956ae3e",
   "metadata": {},
   "outputs": [],
   "source": [
    "class Solution(object):\n",
    "    dp = collections.defaultdict(int)\n",
    "    def fib(self, n):\n",
    "        \"\"\"\n",
    "        :type n: int\n",
    "        :rtype: int\n",
    "        \"\"\" \n",
    "        if n <= 1:\n",
    "            return n\n",
    "        \n",
    "        if self.dp[n]: \n",
    "            return self.dp[n]\n",
    "        \n",
    "        self.dp[n] = self.fib(n - 1) + self.fib(n - 2)\n",
    "        return self.dp[n]"
   ]
  },
  {
   "cell_type": "code",
   "execution_count": null,
   "id": "5f2fe0d0",
   "metadata": {},
   "outputs": [],
   "source": []
  }
 ],
 "metadata": {
  "kernelspec": {
   "display_name": "Python 3 (ipykernel)",
   "language": "python",
   "name": "python3"
  },
  "language_info": {
   "codemirror_mode": {
    "name": "ipython",
    "version": 3
   },
   "file_extension": ".py",
   "mimetype": "text/x-python",
   "name": "python",
   "nbconvert_exporter": "python",
   "pygments_lexer": "ipython3",
   "version": "3.9.7"
  }
 },
 "nbformat": 4,
 "nbformat_minor": 5
}
