{
 "cells": [
  {
   "cell_type": "code",
   "execution_count": null,
   "id": "16b40acd",
   "metadata": {},
   "outputs": [],
   "source": [
    "class Solution:\n",
    "    def climbStairs(self, n: int) -> int:\n",
    "        if n == 1:\n",
    "            return 1\n",
    "        \n",
    "        if n == 2:\n",
    "            return 2\n",
    "        \n",
    "        if n >= 3:\n",
    "            dp = [0] * (n+1)\n",
    "            dp[1] = 1\n",
    "            dp[2] = 2\n",
    "\n",
    "            for i in range(3, n+1):\n",
    "                dp[i] = dp[i-1] + dp[i-2] \n",
    "\n",
    "            return dp[n]"
   ]
  }
 ],
 "metadata": {
  "kernelspec": {
   "display_name": "Python 3 (ipykernel)",
   "language": "python",
   "name": "python3"
  },
  "language_info": {
   "codemirror_mode": {
    "name": "ipython",
    "version": 3
   },
   "file_extension": ".py",
   "mimetype": "text/x-python",
   "name": "python",
   "nbconvert_exporter": "python",
   "pygments_lexer": "ipython3",
   "version": "3.9.7"
  }
 },
 "nbformat": 4,
 "nbformat_minor": 5
}
