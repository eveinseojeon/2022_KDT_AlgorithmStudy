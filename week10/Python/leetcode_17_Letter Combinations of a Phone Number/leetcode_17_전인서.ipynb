{
 "cells": [
  {
   "cell_type": "code",
   "execution_count": null,
   "id": "b8336105",
   "metadata": {},
   "outputs": [],
   "source": [
    "class Solution:\n",
    "    def letterCombinations(self, digits: str) -> List[str]:\n",
    "        if len(digits) == 0:\n",
    "            return []\n",
    "        \n",
    "        mydic = {\"2\":\"abc\", \"3\":\"def\", \"4\":\"ghi\", \"5\":\"jkl\",\n",
    "                 \"6\":\"mno\", \"7\":\"pqrs\", \"8\":\"tuv\", \"9\":\"wxyz\"}\n",
    "        \n",
    "        answer = []\n",
    "        \n",
    "        def dfs(index, comb):\n",
    "            if index == len(digits):\n",
    "                answer.append(comb)\n",
    "                return\n",
    "            for el in mydic[digits[index]]:\n",
    "                comb += el\n",
    "                dfs(index+1, comb)\n",
    "                comb = comb[:-1]\n",
    "        \n",
    "        dfs(0, \"\")\n",
    "        return answer\n"
   ]
  }
 ],
 "metadata": {
  "kernelspec": {
   "display_name": "Python 3 (ipykernel)",
   "language": "python",
   "name": "python3"
  },
  "language_info": {
   "codemirror_mode": {
    "name": "ipython",
    "version": 3
   },
   "file_extension": ".py",
   "mimetype": "text/x-python",
   "name": "python",
   "nbconvert_exporter": "python",
   "pygments_lexer": "ipython3",
   "version": "3.9.7"
  }
 },
 "nbformat": 4,
 "nbformat_minor": 5
}
