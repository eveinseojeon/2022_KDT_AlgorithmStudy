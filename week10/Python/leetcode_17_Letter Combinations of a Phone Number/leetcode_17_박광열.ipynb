{
 "cells": [
  {
   "cell_type": "code",
   "execution_count": null,
   "id": "d4f8f7dc",
   "metadata": {},
   "outputs": [],
   "source": [
    "class Solution:\n",
    "    def letterCombinations(self, digits):\n",
    "        d = {\"2\":\"abc\", \"3\":\"def\", \"4\":\"ghi\", \"5\":\"jkl\", \"6\":\"mno\", \"7\":\"pqrs\", \"8\":\"tuv\", \"9\":\"wxyz\"}\n",
    "        if not digits:\n",
    "            return []\n",
    "\n",
    "        res = []\n",
    "        def dfs(res, index, path):\n",
    "            if len(path)==len(digits):\n",
    "                res.append(path)\n",
    "                return\n",
    "            else:\n",
    "                for c in d[digits[index]]:\n",
    "                    dfs(res, index+1, path + c)\n",
    "        dfs(res, 0, \"\")\n",
    "        return res\n",
    "        "
   ]
  }
 ],
 "metadata": {
  "kernelspec": {
   "display_name": "Python 3 (ipykernel)",
   "language": "python",
   "name": "python3"
  },
  "language_info": {
   "codemirror_mode": {
    "name": "ipython",
    "version": 3
   },
   "file_extension": ".py",
   "mimetype": "text/x-python",
   "name": "python",
   "nbconvert_exporter": "python",
   "pygments_lexer": "ipython3",
   "version": "3.9.12"
  }
 },
 "nbformat": 4,
 "nbformat_minor": 5
}
