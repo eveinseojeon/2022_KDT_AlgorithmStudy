{
 "cells": [
  {
   "cell_type": "code",
   "execution_count": null,
   "id": "d5dfe288",
   "metadata": {},
   "outputs": [],
   "source": [
    "class Solution:\n",
    "    def numIslands(self, grid: List[List[str]]) -> int:\n",
    "        m = len(grid)\n",
    "        n = len(grid[0])\n",
    "        \n",
    "        dx = [1, -1, 0, 0]\n",
    "        dy = [0, 0, 1, -1]\n",
    "        \n",
    "        def dfs(x, y):\n",
    "            grid[x][y] = \"2\"\n",
    "            \n",
    "            for i in range(4):\n",
    "                nx = x + dx[i]\n",
    "                ny = y + dy[i]\n",
    "                if 0<=nx<m and 0<=ny<n and grid[nx][ny]==\"1\":\n",
    "                    dfs(nx, ny)\n",
    "        \n",
    "        answer = 0\n",
    "        for x in range(m):\n",
    "            for y in range(n):\n",
    "                if grid[x][y] == \"1\":\n",
    "                    dfs(x, y)\n",
    "                    answer += 1\n",
    "        \n",
    "        return answer\n",
    "        "
   ]
  }
 ],
 "metadata": {
  "kernelspec": {
   "display_name": "Python 3 (ipykernel)",
   "language": "python",
   "name": "python3"
  },
  "language_info": {
   "codemirror_mode": {
    "name": "ipython",
    "version": 3
   },
   "file_extension": ".py",
   "mimetype": "text/x-python",
   "name": "python",
   "nbconvert_exporter": "python",
   "pygments_lexer": "ipython3",
   "version": "3.9.7"
  }
 },
 "nbformat": 4,
 "nbformat_minor": 5
}
