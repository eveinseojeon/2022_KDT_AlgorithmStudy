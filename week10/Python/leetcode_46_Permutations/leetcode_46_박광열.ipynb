{
 "cells": [
  {
   "cell_type": "code",
   "execution_count": null,
   "id": "0a03fe7a",
   "metadata": {},
   "outputs": [],
   "source": [
    "class Solution:\n",
    "    def permute(self, num: List[int]) -> List[List[int]]:\n",
    "        res = []\n",
    "        nums=list(map(str,num))\n",
    "        print(nums)\n",
    "        def dfs(res, path):\n",
    "            if len(path)==len(nums):\n",
    "                res.append(list(map(int,path)))\n",
    "                return\n",
    "            else:\n",
    "                for c in nums:\n",
    "                    if c not in list(path):\n",
    "                        dfs(res, path + [c])\n",
    "        dfs(res,[])\n",
    "        return res"
   ]
  }
 ],
 "metadata": {
  "kernelspec": {
   "display_name": "Python 3 (ipykernel)",
   "language": "python",
   "name": "python3"
  },
  "language_info": {
   "codemirror_mode": {
    "name": "ipython",
    "version": 3
   },
   "file_extension": ".py",
   "mimetype": "text/x-python",
   "name": "python",
   "nbconvert_exporter": "python",
   "pygments_lexer": "ipython3",
   "version": "3.9.12"
  }
 },
 "nbformat": 4,
 "nbformat_minor": 5
}
