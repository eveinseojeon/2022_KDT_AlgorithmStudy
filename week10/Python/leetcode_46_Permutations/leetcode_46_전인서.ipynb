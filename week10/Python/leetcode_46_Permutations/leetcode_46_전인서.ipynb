{
 "cells": [
  {
   "cell_type": "markdown",
   "id": "386984d5",
   "metadata": {},
   "source": [
    "## Permutations(순열)"
   ]
  },
  {
   "cell_type": "code",
   "execution_count": null,
   "id": "d84409ac",
   "metadata": {},
   "outputs": [],
   "source": [
    "class Solution:\n",
    "    def permute(self, nums: List[int]) -> List[List[int]]:\n",
    "        answer = []\n",
    "        subset = []\n",
    "        \n",
    "        def dfs():\n",
    "            if len(subset) == len(nums):\n",
    "                answer.append(subset.copy()) # 여기 copy()를 써줘야만 풀리는데 왜인지 모르겠음\n",
    "                return\n",
    "            for el in nums:\n",
    "                if el not in subset:\n",
    "                    subset.append(el)\n",
    "                    dfs()\n",
    "                    subset.pop() # 이 부분도 subset = subset[:-1] 이렇게 쓰면 로컬변수 에러 남\n",
    "        \n",
    "        dfs()\n",
    "        return answer\n"
   ]
  }
 ],
 "metadata": {
  "kernelspec": {
   "display_name": "Python 3 (ipykernel)",
   "language": "python",
   "name": "python3"
  },
  "language_info": {
   "codemirror_mode": {
    "name": "ipython",
    "version": 3
   },
   "file_extension": ".py",
   "mimetype": "text/x-python",
   "name": "python",
   "nbconvert_exporter": "python",
   "pygments_lexer": "ipython3",
   "version": "3.9.7"
  }
 },
 "nbformat": 4,
 "nbformat_minor": 5
}
