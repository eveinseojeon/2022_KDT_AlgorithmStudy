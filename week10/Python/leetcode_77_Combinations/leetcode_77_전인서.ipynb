{
 "cells": [
  {
   "cell_type": "markdown",
   "id": "bfb6e799",
   "metadata": {},
   "source": [
    "## Combinations (조합)"
   ]
  },
  {
   "cell_type": "code",
   "execution_count": null,
   "id": "d84409ac",
   "metadata": {},
   "outputs": [],
   "source": [
    "class Solution:\n",
    "    def combine(self, n: int, k: int) -> List[List[int]]:\n",
    "        answer = []\n",
    "        subset = []\n",
    "        \n",
    "        def dfs(start):\n",
    "            if len(subset) == k:\n",
    "                answer.append(subset.copy())\n",
    "                return\n",
    "            for i in range(start, n+1):\n",
    "                if i not in subset:\n",
    "                    subset.append(i)\n",
    "                    dfs(i+1)\n",
    "                    subset.pop()\n",
    "        \n",
    "        dfs(1)\n",
    "        return answer"
   ]
  }
 ],
 "metadata": {
  "kernelspec": {
   "display_name": "Python 3 (ipykernel)",
   "language": "python",
   "name": "python3"
  },
  "language_info": {
   "codemirror_mode": {
    "name": "ipython",
    "version": 3
   },
   "file_extension": ".py",
   "mimetype": "text/x-python",
   "name": "python",
   "nbconvert_exporter": "python",
   "pygments_lexer": "ipython3",
   "version": "3.9.7"
  }
 },
 "nbformat": 4,
 "nbformat_minor": 5
}
