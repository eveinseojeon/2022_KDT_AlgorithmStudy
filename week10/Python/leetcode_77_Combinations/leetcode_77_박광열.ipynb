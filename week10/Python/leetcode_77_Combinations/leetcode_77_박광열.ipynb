{
 "cells": [
  {
   "cell_type": "code",
   "execution_count": 25,
   "id": "bc9a6794",
   "metadata": {},
   "outputs": [],
   "source": [
    "class Solution:\n",
    "    def combine(self, n: int, k: int) -> List[List[int]]:\n",
    "        res = []\n",
    "        self.dfs(range(1,n+1), k, [], res)\n",
    "        return res\n",
    "        \n",
    "    def dfs(self, nums, k, path, res):\n",
    "        if k == 0:\n",
    "            res.append(path)\n",
    "            return res\n",
    "        \n",
    "        if len(nums) >= k:\n",
    "            for i in range(len(nums)):\n",
    "                self.dfs(nums[i+1:], k-1, path+[nums[i]], res)\n",
    "        return"
   ]
  },
  {
   "cell_type": "code",
   "execution_count": null,
   "id": "623f9938",
   "metadata": {},
   "outputs": [],
   "source": []
  }
 ],
 "metadata": {
  "kernelspec": {
   "display_name": "Python 3 (ipykernel)",
   "language": "python",
   "name": "python3"
  },
  "language_info": {
   "codemirror_mode": {
    "name": "ipython",
    "version": 3
   },
   "file_extension": ".py",
   "mimetype": "text/x-python",
   "name": "python",
   "nbconvert_exporter": "python",
   "pygments_lexer": "ipython3",
   "version": "3.9.12"
  }
 },
 "nbformat": 4,
 "nbformat_minor": 5
}
