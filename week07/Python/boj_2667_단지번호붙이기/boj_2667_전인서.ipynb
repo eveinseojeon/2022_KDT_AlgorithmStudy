{
 "cells": [
  {
   "cell_type": "code",
   "execution_count": 20,
   "id": "de93ebf9",
   "metadata": {},
   "outputs": [
    {
     "name": "stdout",
     "output_type": "stream",
     "text": [
      "7\n",
      "0110100\n",
      "0110101\n",
      "1110101\n",
      "0000111\n",
      "0100000\n",
      "0111110\n",
      "0111000\n",
      "3\n",
      "7\n",
      "8\n",
      "9\n"
     ]
    }
   ],
   "source": [
    "from collections import deque\n",
    "\n",
    "N = int(input())\n",
    "graph = [list(input()) for _ in range(N)]\n",
    "\n",
    "dx = [1, -1, 0, 0]\n",
    "dy = [0, 0, 1, -1]\n",
    "\n",
    "def bfs(x, y, num):\n",
    "    queue = deque()\n",
    "    queue.append((x, y))\n",
    "    cnt = 1 # 각 단지에 속하는 집의 수\n",
    "    \n",
    "    while queue:\n",
    "        x, y = queue.popleft()\n",
    "        graph[x][y] = num\n",
    "        \n",
    "        for i in range(4):\n",
    "            nx = x + dx[i]\n",
    "            ny = y + dy[i]\n",
    "            if 0<=nx<N and 0<=ny<N and graph[nx][ny]=='1':\n",
    "                graph[nx][ny] = num\n",
    "                queue.append((nx, ny))\n",
    "                cnt += 1\n",
    "    answer.append(cnt)\n",
    "\n",
    "num = 0 # 단지 번호\n",
    "answer = []\n",
    "\n",
    "for i in range(N):\n",
    "    for j in range(N):\n",
    "        if graph[i][j] == '1':\n",
    "            num += 1\n",
    "            bfs(i, j, num)\n",
    "\n",
    "print(num)\n",
    "for arg in sorted(answer):\n",
    "    print(arg)"
   ]
  }
 ],
 "metadata": {
  "kernelspec": {
   "display_name": "Python 3 (ipykernel)",
   "language": "python",
   "name": "python3"
  },
  "language_info": {
   "codemirror_mode": {
    "name": "ipython",
    "version": 3
   },
   "file_extension": ".py",
   "mimetype": "text/x-python",
   "name": "python",
   "nbconvert_exporter": "python",
   "pygments_lexer": "ipython3",
   "version": "3.9.7"
  }
 },
 "nbformat": 4,
 "nbformat_minor": 5
}
