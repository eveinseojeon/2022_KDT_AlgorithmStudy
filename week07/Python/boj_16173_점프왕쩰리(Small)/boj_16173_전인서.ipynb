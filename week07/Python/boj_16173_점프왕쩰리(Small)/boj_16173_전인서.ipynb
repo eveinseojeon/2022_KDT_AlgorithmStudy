{
 "cells": [
  {
   "cell_type": "markdown",
   "id": "a173d936",
   "metadata": {},
   "source": [
    "- 내가 짠 코드 (메모리 초과)"
   ]
  },
  {
   "cell_type": "code",
   "execution_count": 5,
   "id": "70769683",
   "metadata": {},
   "outputs": [
    {
     "name": "stdout",
     "output_type": "stream",
     "text": [
      "3\n",
      "1 1 10\n",
      "1 5 1\n",
      "2 2 -1\n",
      "HaruHaru\n"
     ]
    }
   ],
   "source": [
    "from collections import deque\n",
    "import sys\n",
    "read = sys.stdin.readline\n",
    "\n",
    "N = int(input())\n",
    "graph = [list(map(int, input().split())) for _ in range(N)]\n",
    "\n",
    "queue = deque()\n",
    "queue.append((0, 0))\n",
    "\n",
    "def bfs():\n",
    "    while queue:\n",
    "        x, y = queue.popleft()\n",
    "        step = graph[x][y]\n",
    "        \n",
    "        if step == -1:\n",
    "            return 'HaruHaru'\n",
    "\n",
    "        if x + step < N:\n",
    "            queue.append((x + step, y))\n",
    "\n",
    "        if y + step < N:\n",
    "            queue.append((x, y + step))\n",
    "    return 'Hing'\n",
    "\n",
    "print(bfs())"
   ]
  },
  {
   "cell_type": "markdown",
   "id": "59d5ec4d",
   "metadata": {},
   "source": [
    "- 구글링 참고"
   ]
  },
  {
   "cell_type": "code",
   "execution_count": 14,
   "id": "3d0b48be",
   "metadata": {},
   "outputs": [
    {
     "name": "stdout",
     "output_type": "stream",
     "text": [
      "3\n",
      "1 1 10\n",
      "1 5 1\n",
      "2 2 -1\n",
      "HaruHaru\n"
     ]
    }
   ],
   "source": [
    "from collections import deque\n",
    "import sys\n",
    "read = sys.stdin.readline\n",
    "\n",
    "N = int(input())\n",
    "graph = [list(map(int, input().split())) for _ in range(N)]\n",
    "\n",
    "dx = [1, 0]\n",
    "dy = [0, 1]\n",
    "\n",
    "queue = deque()\n",
    "queue.append((0, 0))\n",
    "\n",
    "visited = [[0]*N for _ in range(N)]\n",
    "\n",
    "def bfs():\n",
    "    while queue:\n",
    "        x, y = queue.popleft()\n",
    "        visited[x][y] = 1\n",
    "        step = graph[x][y]\n",
    "        \n",
    "        if step == -1:\n",
    "            return 'HaruHaru'\n",
    "        \n",
    "        for i in range(2):\n",
    "            nx = x + (dx[i] * step)\n",
    "            ny = y + (dy[i] * step)\n",
    "            if 0<=nx<N and 0<=ny<N and not visited[nx][ny]:\n",
    "                queue.append((nx, ny))\n",
    "                visited[nx][ny] = 1\n",
    "        \n",
    "    return 'Hing'\n",
    "\n",
    "print(bfs())"
   ]
  },
  {
   "cell_type": "code",
   "execution_count": null,
   "id": "c7b544f6",
   "metadata": {},
   "outputs": [],
   "source": []
  }
 ],
 "metadata": {
  "kernelspec": {
   "display_name": "Python 3 (ipykernel)",
   "language": "python",
   "name": "python3"
  },
  "language_info": {
   "codemirror_mode": {
    "name": "ipython",
    "version": 3
   },
   "file_extension": ".py",
   "mimetype": "text/x-python",
   "name": "python",
   "nbconvert_exporter": "python",
   "pygments_lexer": "ipython3",
   "version": "3.9.7"
  }
 },
 "nbformat": 4,
 "nbformat_minor": 5
}
