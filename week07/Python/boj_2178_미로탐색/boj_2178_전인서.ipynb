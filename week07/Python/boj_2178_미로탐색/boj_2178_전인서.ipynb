{
 "cells": [
  {
   "cell_type": "markdown",
   "id": "1cb2dd46",
   "metadata": {},
   "source": [
    "- 처음에 쓸데없이 visited, dist 등 여러 객체들을 만들어 줬었다.\n",
    "- 최대한 있는 것만으로 활용하자."
   ]
  },
  {
   "cell_type": "code",
   "execution_count": 35,
   "id": "fbe12eea",
   "metadata": {
    "scrolled": true
   },
   "outputs": [
    {
     "name": "stdout",
     "output_type": "stream",
     "text": [
      "4 6\n",
      "110110\n",
      "110110\n",
      "111111\n",
      "111101\n",
      "9\n"
     ]
    }
   ],
   "source": [
    "from collections import deque\n",
    "# import sys\n",
    "# read = sys.stdin.readline # 왜인지 모르겠는데 이걸 사용했을 때 런타임 에러\n",
    "\n",
    "N, M = map(int, input().split())\n",
    "graph = [list(map(int, input())) for _ in range(N)]\n",
    "\n",
    "queue = deque()\n",
    "\n",
    "dx = [1, 0, -1, 0]\n",
    "dy = [0, 1, 0, -1]\n",
    "\n",
    "def bfs(x, y):\n",
    "    queue.append((x, y))\n",
    "    \n",
    "    while queue:\n",
    "        x, y = queue.popleft()\n",
    "\n",
    "        for i in range(4):\n",
    "            nx = x + dx[i]\n",
    "            ny = y + dy[i]\n",
    "            if 0<=nx<N and 0<=ny<M and graph[nx][ny]==1:\n",
    "                queue.append((nx, ny))\n",
    "                graph[nx][ny] = graph[x][y] + 1\n",
    "    \n",
    "    return graph[N-1][M-1]\n",
    "\n",
    "print(bfs(0, 0))"
   ]
  }
 ],
 "metadata": {
  "kernelspec": {
   "display_name": "Python 3 (ipykernel)",
   "language": "python",
   "name": "python3"
  },
  "language_info": {
   "codemirror_mode": {
    "name": "ipython",
    "version": 3
   },
   "file_extension": ".py",
   "mimetype": "text/x-python",
   "name": "python",
   "nbconvert_exporter": "python",
   "pygments_lexer": "ipython3",
   "version": "3.9.7"
  }
 },
 "nbformat": 4,
 "nbformat_minor": 5
}
