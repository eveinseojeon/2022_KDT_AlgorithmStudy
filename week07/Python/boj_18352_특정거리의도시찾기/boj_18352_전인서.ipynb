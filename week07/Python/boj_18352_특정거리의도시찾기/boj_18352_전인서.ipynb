{
 "cells": [
  {
   "cell_type": "markdown",
   "id": "7a6d6cc6",
   "metadata": {},
   "source": [
    "- 내가 짠 코드 (또 메모리 초과)"
   ]
  },
  {
   "cell_type": "code",
   "execution_count": 75,
   "id": "90aa14af",
   "metadata": {
    "scrolled": false
   },
   "outputs": [
    {
     "name": "stdout",
     "output_type": "stream",
     "text": [
      "4 4 2 1\n",
      "1 2\n",
      "1 3\n",
      "2 3\n",
      "2 4\n",
      "4\n"
     ]
    }
   ],
   "source": [
    "from collections import deque\n",
    "import sys\n",
    "read = sys.stdin.readline\n",
    "\n",
    "N, M, K, X = map(int, input().split())\n",
    "\n",
    "graph = [[0]*(N+1) for _ in range(N+1)]\n",
    "for _ in range(M):\n",
    "    x, y = map(int, input().split())\n",
    "    graph[x][y] = 1\n",
    "\n",
    "dist = [0] * (N+1)\n",
    "visited = [0] * (N+1)\n",
    "\n",
    "queue = deque()\n",
    "queue.append(X)\n",
    "\n",
    "def bfs(X):\n",
    "    while queue:\n",
    "        X = queue.popleft()\n",
    "        visited[X] = 1\n",
    "        for i in range(1, N+1):\n",
    "            if graph[X][i] == 1 and not visited[i]:\n",
    "                dist[i] = dist[X] + 1\n",
    "                queue.append(i)\n",
    "                visited[i] = 1\n",
    "\n",
    "bfs(X)\n",
    "\n",
    "answer = []\n",
    "for j in range(N+1):\n",
    "    if dist[j] == K:\n",
    "        answer.append(j)\n",
    "        print(j)\n",
    "\n",
    "if not answer:\n",
    "    print(-1)"
   ]
  },
  {
   "cell_type": "markdown",
   "id": "dd091b75",
   "metadata": {},
   "source": [
    "- 구글링 참고해서 graph 변수의 자료구조 바꾸니 해결됨"
   ]
  },
  {
   "cell_type": "code",
   "execution_count": 77,
   "id": "a7de0041",
   "metadata": {},
   "outputs": [
    {
     "name": "stdout",
     "output_type": "stream",
     "text": [
      "4 4 2 1\n",
      "1 2\n",
      "1 3\n",
      "2 3\n",
      "2 4\n",
      "4\n"
     ]
    }
   ],
   "source": [
    "from collections import deque\n",
    "import sys\n",
    "read = sys.stdin.readline\n",
    "\n",
    "N, M, K, X = map(int, input().split())\n",
    "\n",
    "graph = [[] for _ in range(N+1)] # graph 변수의 자료구조만 바꿈\n",
    "for _ in range(M):\n",
    "    x, y = map(int, input().split())\n",
    "    graph[x].append(y)    \n",
    "\n",
    "dist = [0] * (N+1)\n",
    "visited = [0] * (N+1)\n",
    "\n",
    "queue = deque()\n",
    "queue.append(X)\n",
    "\n",
    "def bfs(X):\n",
    "    while queue:\n",
    "        X = queue.popleft()\n",
    "        visited[X] = 1\n",
    "        for i in graph[X]:\n",
    "            if not visited[i]:\n",
    "                dist[i] = dist[X] + 1\n",
    "                queue.append(i)\n",
    "                visited[i] = 1\n",
    "\n",
    "bfs(X)\n",
    "\n",
    "answer = []\n",
    "for j in range(N+1):\n",
    "    if dist[j] == K:\n",
    "        answer.append(j)\n",
    "        print(j)\n",
    "\n",
    "if not answer:\n",
    "    print(-1)"
   ]
  }
 ],
 "metadata": {
  "kernelspec": {
   "display_name": "Python 3 (ipykernel)",
   "language": "python",
   "name": "python3"
  },
  "language_info": {
   "codemirror_mode": {
    "name": "ipython",
    "version": 3
   },
   "file_extension": ".py",
   "mimetype": "text/x-python",
   "name": "python",
   "nbconvert_exporter": "python",
   "pygments_lexer": "ipython3",
   "version": "3.9.7"
  }
 },
 "nbformat": 4,
 "nbformat_minor": 5
}
