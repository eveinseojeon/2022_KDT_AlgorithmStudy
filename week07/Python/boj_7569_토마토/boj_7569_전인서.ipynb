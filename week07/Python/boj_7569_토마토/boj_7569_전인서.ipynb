{
 "cells": [
  {
   "cell_type": "markdown",
   "id": "20475390",
   "metadata": {},
   "source": [
    "- 풀었는데 런타임 에러 나서 구글링 후 수정"
   ]
  },
  {
   "cell_type": "code",
   "execution_count": 20,
   "id": "5c0b535f",
   "metadata": {},
   "outputs": [
    {
     "name": "stdout",
     "output_type": "stream",
     "text": [
      "5 3 2\n",
      "0 0 0 0 0\n",
      "0 0 0 0 0\n",
      "0 0 0 0 0\n",
      "0 0 0 0 0\n",
      "0 0 1 0 0\n",
      "0 0 0 0 0\n",
      "4\n"
     ]
    }
   ],
   "source": [
    "from collections import deque\n",
    "import sys\n",
    "read = sys.stdin.readline\n",
    "\n",
    "dz = [0, 0, 0, 0, 1, -1]\n",
    "dx = [1, -1, 0, 0, 0, 0]\n",
    "dy = [0, 0, 1, -1, 0, 0]\n",
    "\n",
    "def bfs(): # 주위 6방향 토마토 익히는 함수    \n",
    "    while queue:\n",
    "        z, x, y = queue.popleft()\n",
    "        for i in range(6):\n",
    "            nz = z + dz[i]\n",
    "            nx = x + dx[i]\n",
    "            ny = y + dy[i]\n",
    "            if 0<=nz<H and 0<=nx<N and 0<=ny<M and graph[nz][nx][ny]==0:\n",
    "                graph[nz][nx][ny] = graph[z][x][y] + 1\n",
    "                queue.append((nz, nx, ny))\n",
    "\n",
    "\n",
    "M, N, H = map(int, input().split())\n",
    "graph = [[list(map(int, input().split())) for _ in range(N)] for _ in range(H)]\n",
    "\n",
    "queue = deque() # 익은 토마토의 위치\n",
    "for z in range(H):\n",
    "    for x in range(N):\n",
    "        for y in range(M):\n",
    "            if graph[z][x][y] == 1:\n",
    "                queue.append((z, x, y))\n",
    "\n",
    "bfs() # 토마토 익히기\n",
    "\n",
    "def return_answer():\n",
    "    answer = 0\n",
    "    for i in graph:\n",
    "        for j in i:\n",
    "            if 0 in j:\n",
    "                return -1 # 안 익은 토마토가 남아있으면\n",
    "            answer = max(answer, max(j))\n",
    "    return (answer - 1)\n",
    "\n",
    "print(return_answer())"
   ]
  }
 ],
 "metadata": {
  "kernelspec": {
   "display_name": "Python 3 (ipykernel)",
   "language": "python",
   "name": "python3"
  },
  "language_info": {
   "codemirror_mode": {
    "name": "ipython",
    "version": 3
   },
   "file_extension": ".py",
   "mimetype": "text/x-python",
   "name": "python",
   "nbconvert_exporter": "python",
   "pygments_lexer": "ipython3",
   "version": "3.9.7"
  }
 },
 "nbformat": 4,
 "nbformat_minor": 5
}
