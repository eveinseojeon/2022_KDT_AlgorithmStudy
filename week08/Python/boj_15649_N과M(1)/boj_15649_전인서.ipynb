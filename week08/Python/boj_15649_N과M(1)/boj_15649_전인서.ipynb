{
 "cells": [
  {
   "cell_type": "markdown",
   "id": "a7e86a66",
   "metadata": {},
   "source": [
    "- permutations(순열) 함수 구글링해서 풀었음"
   ]
  },
  {
   "cell_type": "code",
   "execution_count": 26,
   "id": "142f139f",
   "metadata": {
    "scrolled": true
   },
   "outputs": [
    {
     "name": "stdout",
     "output_type": "stream",
     "text": [
      "4 4\n",
      "1 2 3 4\n",
      "1 2 4 3\n",
      "1 3 2 4\n",
      "1 3 4 2\n",
      "1 4 2 3\n",
      "1 4 3 2\n",
      "2 1 3 4\n",
      "2 1 4 3\n",
      "2 3 1 4\n",
      "2 3 4 1\n",
      "2 4 1 3\n",
      "2 4 3 1\n",
      "3 1 2 4\n",
      "3 1 4 2\n",
      "3 2 1 4\n",
      "3 2 4 1\n",
      "3 4 1 2\n",
      "3 4 2 1\n",
      "4 1 2 3\n",
      "4 1 3 2\n",
      "4 2 1 3\n",
      "4 2 3 1\n",
      "4 3 1 2\n",
      "4 3 2 1\n"
     ]
    }
   ],
   "source": [
    "from itertools import permutations\n",
    "\n",
    "N, M = map(int, input().split())\n",
    "nums = [i for i in range(1, N+1)]\n",
    "answer = list(permutations(nums, M))\n",
    "\n",
    "for j in answer:\n",
    "    print(' '.join(map(str, j)))"
   ]
  },
  {
   "cell_type": "markdown",
   "id": "0e11c9b1",
   "metadata": {},
   "source": [
    "- dfs의 일종인 백트래킹으로 풀기\n",
    "- 백트래킹 알고리즘은 dfs의 비효율적인 경로를 차단하고 가능성이 있는 루트를 검사하는 방법이다."
   ]
  },
  {
   "cell_type": "code",
   "execution_count": 28,
   "id": "4cbc5c0a",
   "metadata": {},
   "outputs": [
    {
     "name": "stdout",
     "output_type": "stream",
     "text": [
      "4 4\n",
      "1 2 3 4\n",
      "1 2 4 3\n",
      "1 3 2 4\n",
      "1 3 4 2\n",
      "1 4 2 3\n",
      "1 4 3 2\n",
      "2 1 3 4\n",
      "2 1 4 3\n",
      "2 3 1 4\n",
      "2 3 4 1\n",
      "2 4 1 3\n",
      "2 4 3 1\n",
      "3 1 2 4\n",
      "3 1 4 2\n",
      "3 2 1 4\n",
      "3 2 4 1\n",
      "3 4 1 2\n",
      "3 4 2 1\n",
      "4 1 2 3\n",
      "4 1 3 2\n",
      "4 2 1 3\n",
      "4 2 3 1\n",
      "4 3 1 2\n",
      "4 3 2 1\n"
     ]
    }
   ],
   "source": [
    "N, M = map(int, input().split())\n",
    "s = []\n",
    "\n",
    "def dfs():\n",
    "    if len(s) == M:\n",
    "        print(' '.join(map(str, s)))\n",
    "        return\n",
    "    for i in range(1, N+1):\n",
    "        if i not in s:\n",
    "            s.append(i)\n",
    "            dfs()\n",
    "            s.pop()\n",
    "\n",
    "dfs()"
   ]
  },
  {
   "cell_type": "code",
   "execution_count": null,
   "id": "e1d7eb50",
   "metadata": {},
   "outputs": [],
   "source": []
  }
 ],
 "metadata": {
  "kernelspec": {
   "display_name": "Python 3 (ipykernel)",
   "language": "python",
   "name": "python3"
  },
  "language_info": {
   "codemirror_mode": {
    "name": "ipython",
    "version": 3
   },
   "file_extension": ".py",
   "mimetype": "text/x-python",
   "name": "python",
   "nbconvert_exporter": "python",
   "pygments_lexer": "ipython3",
   "version": "3.9.7"
  }
 },
 "nbformat": 4,
 "nbformat_minor": 5
}
