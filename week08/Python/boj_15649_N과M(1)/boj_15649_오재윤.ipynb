{
 "cells": [
  {
   "cell_type": "code",
   "execution_count": null,
   "id": "45298810",
   "metadata": {},
   "outputs": [],
   "source": [
    "자연수 N과 M이 주어졌을 때, 아래 조건을 만족하는 길이가 M인 수열을 모두 구하는 프로그램을 작성하시오.\n",
    "\n",
    "1부터 N까지 자연수 중에서 중복 없이 M개를 고른 수열"
   ]
  },
  {
   "cell_type": "markdown",
   "id": "0cc245c5",
   "metadata": {},
   "source": [
    "문제는 단순\n",
    "itertools에서 permutations를 사용해서 풀었는데\n",
    "이건 파이썬에서만 가능하고\n",
    "문제에서 의도한 풀이는 DFS 백트래킹을 의도"
   ]
  },
  {
   "cell_type": "code",
   "execution_count": 2,
   "id": "514feda9",
   "metadata": {},
   "outputs": [
    {
     "name": "stdout",
     "output_type": "stream",
     "text": [
      "4 2\n",
      "1 2 \n",
      "1 3 \n",
      "1 4 \n",
      "2 1 \n",
      "2 3 \n",
      "2 4 \n",
      "3 1 \n",
      "3 2 \n",
      "3 4 \n",
      "4 1 \n",
      "4 2 \n",
      "4 3 \n"
     ]
    }
   ],
   "source": [
    "import itertools\n",
    "\n",
    "n, m = map(int, input().split())\n",
    "nums = [i for i in range(1, n+1)]\n",
    "\n",
    "array = itertools.permutations(nums, m)\n",
    "\n",
    "for i in array:\n",
    "    for j in i:\n",
    "        print(j, end = ' ')\n",
    "    print()"
   ]
  },
  {
   "cell_type": "markdown",
   "id": "6a7b60b9",
   "metadata": {},
   "source": [
    "DFS는 구현을 해보려다가 구글링.... "
   ]
  },
  {
   "cell_type": "code",
   "execution_count": 5,
   "id": "72bfda83",
   "metadata": {},
   "outputs": [
    {
     "name": "stdout",
     "output_type": "stream",
     "text": [
      "3 1\n",
      "1\n",
      "2\n",
      "3\n"
     ]
    }
   ],
   "source": [
    "n,m = list(map(int,input().split()))\n",
    " \n",
    "s = []\n",
    " \n",
    "def dfs():\n",
    "    if len(s)==m:\n",
    "        print(' '.join(map(str,s)))\n",
    "        return\n",
    "    \n",
    "    for i in range(1,n+1):\n",
    "        if i not in s:\n",
    "            s.append(i)\n",
    "            dfs()\n",
    "            s.pop()\n",
    "\n",
    "            \n",
    "dfs()"
   ]
  },
  {
   "cell_type": "code",
   "execution_count": null,
   "id": "b444ceb1",
   "metadata": {},
   "outputs": [],
   "source": []
  }
 ],
 "metadata": {
  "kernelspec": {
   "display_name": "Python 3 (ipykernel)",
   "language": "python",
   "name": "python3"
  },
  "language_info": {
   "codemirror_mode": {
    "name": "ipython",
    "version": 3
   },
   "file_extension": ".py",
   "mimetype": "text/x-python",
   "name": "python",
   "nbconvert_exporter": "python",
   "pygments_lexer": "ipython3",
   "version": "3.9.7"
  }
 },
 "nbformat": 4,
 "nbformat_minor": 5
}
