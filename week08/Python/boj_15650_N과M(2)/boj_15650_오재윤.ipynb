{
 "cells": [
  {
   "cell_type": "code",
   "execution_count": null,
   "id": "8c7e2ca3",
   "metadata": {},
   "outputs": [],
   "source": [
    "자연수 N과 M이 주어졌을 때, 아래 조건을 만족하는 길이가 M인 수열을 모두 구하는 프로그램을 작성하시오.\n",
    "\n",
    "1부터 N까지 자연수 중에서 중복 없이 M개를 고른 수열\n",
    "고른 수열은 오름차순이어야 한다."
   ]
  },
  {
   "cell_type": "code",
   "execution_count": null,
   "id": "329918fd",
   "metadata": {},
   "outputs": [],
   "source": [
    "1과 다른 점은 이건 combinations 이라는 것\n",
    "1번의 dfs를 활용해서 중복을 없애는 방향으로 구현\n"
   ]
  },
  {
   "cell_type": "code",
   "execution_count": 3,
   "id": "49c2cf9d",
   "metadata": {},
   "outputs": [
    {
     "name": "stdout",
     "output_type": "stream",
     "text": [
      "4 2\n",
      "1 2\n",
      "1 3\n",
      "1 4\n",
      "2 3\n",
      "2 4\n",
      "3 4\n"
     ]
    }
   ],
   "source": [
    "n,m = list(map(int,input().split()))\n",
    "s = []\n",
    "def dfs(start):\n",
    "    if len(s)==m:\n",
    "        print(' '.join(map(str,s)))\n",
    "        return\n",
    "    \n",
    "    for i in range(start,n+1):\n",
    "        if i not in s:\n",
    "            s.append(i)\n",
    "            dfs(i+1)\n",
    "            s.pop()\n",
    "dfs(1)"
   ]
  },
  {
   "cell_type": "markdown",
   "id": "b1699186",
   "metadata": {},
   "source": [
    "이것도 itertools의 combinations를 활용해서 풀어낼 수 있음"
   ]
  },
  {
   "cell_type": "code",
   "execution_count": 2,
   "id": "4268c033",
   "metadata": {},
   "outputs": [
    {
     "name": "stdout",
     "output_type": "stream",
     "text": [
      "3 1\n",
      "1\n",
      "2\n",
      "3\n"
     ]
    }
   ],
   "source": [
    "from itertools import combinations as c\n",
    "n,m=map(int,input().split())\n",
    "for x in c(range(1,n+1),m):\n",
    "    print(*x)"
   ]
  },
  {
   "cell_type": "code",
   "execution_count": null,
   "id": "e1c09524",
   "metadata": {},
   "outputs": [],
   "source": []
  }
 ],
 "metadata": {
  "kernelspec": {
   "display_name": "Python 3 (ipykernel)",
   "language": "python",
   "name": "python3"
  },
  "language_info": {
   "codemirror_mode": {
    "name": "ipython",
    "version": 3
   },
   "file_extension": ".py",
   "mimetype": "text/x-python",
   "name": "python",
   "nbconvert_exporter": "python",
   "pygments_lexer": "ipython3",
   "version": "3.9.7"
  }
 },
 "nbformat": 4,
 "nbformat_minor": 5
}
