{
 "cells": [
  {
   "cell_type": "markdown",
   "id": "5fe494a6",
   "metadata": {},
   "source": [
    "- combinations(조합) 함수로 먼저 풀어봄"
   ]
  },
  {
   "cell_type": "code",
   "execution_count": 13,
   "id": "1d7b468c",
   "metadata": {},
   "outputs": [
    {
     "name": "stdout",
     "output_type": "stream",
     "text": [
      "4 2\n",
      "1 2\n",
      "1 3\n",
      "1 4\n",
      "2 3\n",
      "2 4\n",
      "3 4\n"
     ]
    }
   ],
   "source": [
    "from itertools import combinations\n",
    "\n",
    "N, M = map(int, input().split())\n",
    "nums = [i for i in range(1, N+1)]\n",
    "answer = list(combinations(nums, M))\n",
    "\n",
    "for j in answer:\n",
    "    print(' '.join(map(str, j)))"
   ]
  },
  {
   "cell_type": "markdown",
   "id": "4488ceb5",
   "metadata": {},
   "source": [
    "- 순열과 다른 조합의 특성을 생각해서 꼼수"
   ]
  },
  {
   "cell_type": "code",
   "execution_count": 14,
   "id": "9fe837be",
   "metadata": {},
   "outputs": [
    {
     "name": "stdout",
     "output_type": "stream",
     "text": [
      "4 2\n",
      "1 2\n",
      "1 3\n",
      "1 4\n",
      "2 3\n",
      "2 4\n",
      "3 4\n"
     ]
    }
   ],
   "source": [
    "N, M = map(int, input().split())\n",
    "\n",
    "s = []\n",
    "\n",
    "def dfs():\n",
    "    if len(s) == M and sorted(s) == s: # 꼼수\n",
    "        print(' '.join(map(str, s)))\n",
    "        return\n",
    "    for i in range(1, N+1):\n",
    "        if i not in s:\n",
    "            s.append(i)\n",
    "            dfs()\n",
    "            s.pop()\n",
    "\n",
    "dfs()"
   ]
  },
  {
   "cell_type": "markdown",
   "id": "54652df6",
   "metadata": {},
   "source": [
    "- 백트래킹 방법 구글링"
   ]
  },
  {
   "cell_type": "code",
   "execution_count": 15,
   "id": "e54c3325",
   "metadata": {},
   "outputs": [
    {
     "name": "stdout",
     "output_type": "stream",
     "text": [
      "4 2\n",
      "1 2\n",
      "1 3\n",
      "1 4\n",
      "2 3\n",
      "2 4\n",
      "3 4\n"
     ]
    }
   ],
   "source": [
    "N, M = map(int, input().split())\n",
    "\n",
    "s = []\n",
    "\n",
    "def dfs(start):\n",
    "    if len(s) == M:\n",
    "        print(' '.join(map(str, s)))\n",
    "        return\n",
    "    for i in range(start, N+1):\n",
    "        if i not in s:\n",
    "            s.append(i)\n",
    "            dfs(i+1)\n",
    "            s.pop()\n",
    "\n",
    "dfs(1)"
   ]
  }
 ],
 "metadata": {
  "kernelspec": {
   "display_name": "Python 3 (ipykernel)",
   "language": "python",
   "name": "python3"
  },
  "language_info": {
   "codemirror_mode": {
    "name": "ipython",
    "version": 3
   },
   "file_extension": ".py",
   "mimetype": "text/x-python",
   "name": "python",
   "nbconvert_exporter": "python",
   "pygments_lexer": "ipython3",
   "version": "3.9.7"
  }
 },
 "nbformat": 4,
 "nbformat_minor": 5
}
