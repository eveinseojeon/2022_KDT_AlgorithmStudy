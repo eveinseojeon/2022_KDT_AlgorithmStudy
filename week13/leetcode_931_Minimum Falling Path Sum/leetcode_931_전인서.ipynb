{
 "cells": [
  {
   "cell_type": "code",
   "execution_count": 30,
   "id": "0c2c3560",
   "metadata": {},
   "outputs": [
    {
     "name": "stdout",
     "output_type": "stream",
     "text": [
      "13\n"
     ]
    }
   ],
   "source": [
    "matrix = [[2,1,3],\n",
    "          [6,5,4],\n",
    "          [7,8,9]]\n",
    "# Output: 13\n",
    "\n",
    "n = len(matrix)\n",
    "dp = [[0 for _ in range(n)] for _ in range(n)]\n",
    "dp[0] = matrix[0] # dp의 첫 행은 matrix의 첫 행 그대로 가져옴\n",
    "\n",
    "for x in range(1, n): # 두 번째 행부터 돌아감\n",
    "    for y in range(n):\n",
    "        cand = []\n",
    "        for direction in [-1, 0, 1]: # 왼쪽 위, 바로 위, 오른쪽 위\n",
    "            ny = y + direction\n",
    "            if 0<=ny<n: # 이동해본 위치가 matrix를 벗어나지 않으면\n",
    "                cand.append(dp[x-1][ny])\n",
    "\n",
    "        dp[x][y] = min(cand) + matrix[x][y] # 현재 위치에서 위로 세 방향 중 최솟값을 가져와서 더함\n",
    "\n",
    "print(min(dp[-1])) # dp의 마지막 행 중에서 최솟값을 출력"
   ]
  }
 ],
 "metadata": {
  "kernelspec": {
   "display_name": "Python 3 (ipykernel)",
   "language": "python",
   "name": "python3"
  },
  "language_info": {
   "codemirror_mode": {
    "name": "ipython",
    "version": 3
   },
   "file_extension": ".py",
   "mimetype": "text/x-python",
   "name": "python",
   "nbconvert_exporter": "python",
   "pygments_lexer": "ipython3",
   "version": "3.9.7"
  }
 },
 "nbformat": 4,
 "nbformat_minor": 5
}
