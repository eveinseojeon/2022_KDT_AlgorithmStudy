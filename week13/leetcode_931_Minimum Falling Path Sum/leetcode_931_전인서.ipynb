{
 "cells": [
  {
   "cell_type": "code",
   "execution_count": 30,
   "id": "0c2c3560",
   "metadata": {},
   "outputs": [
    {
     "name": "stdout",
     "output_type": "stream",
     "text": [
      "13\n"
     ]
    }
   ],
   "source": [
    "matrix = [[2,1,3],\n",
    "          [6,5,4],\n",
    "          [7,8,9]]\n",
    "# Output: 13\n",
    "\n",
    "n = len(matrix)\n",
    "dp = [[0 for _ in range(n)] for _ in range(n)]\n",
    "dp[0] = matrix[0]\n",
    "\n",
    "for x in range(1, n):\n",
    "    for y in range(n):\n",
    "        cand = []\n",
    "        for direction in [-1, 0, 1]:\n",
    "            ny = y + direction\n",
    "            if 0<=ny<n:\n",
    "                cand.append(dp[x-1][ny])\n",
    "\n",
    "        dp[x][y] = min(cand) + matrix[x][y]\n",
    "\n",
    "print(min(dp[-1]))"
   ]
  }
 ],
 "metadata": {
  "kernelspec": {
   "display_name": "Python 3 (ipykernel)",
   "language": "python",
   "name": "python3"
  },
  "language_info": {
   "codemirror_mode": {
    "name": "ipython",
    "version": 3
   },
   "file_extension": ".py",
   "mimetype": "text/x-python",
   "name": "python",
   "nbconvert_exporter": "python",
   "pygments_lexer": "ipython3",
   "version": "3.9.7"
  }
 },
 "nbformat": 4,
 "nbformat_minor": 5
}
