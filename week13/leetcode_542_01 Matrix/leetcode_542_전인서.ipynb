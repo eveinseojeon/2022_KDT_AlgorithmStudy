{
 "cells": [
  {
   "cell_type": "markdown",
   "id": "491a13f6",
   "metadata": {},
   "source": [
    "- 헤매다가 코드 찾아봐서 이해한 다음 혼자 짜보았다."
   ]
  },
  {
   "cell_type": "code",
   "execution_count": 12,
   "id": "7cf58207",
   "metadata": {},
   "outputs": [
    {
     "name": "stdout",
     "output_type": "stream",
     "text": [
      "[[0, 0, 0], [0, 1, 0], [1, 2, 1]]\n"
     ]
    }
   ],
   "source": [
    "from collections import deque\n",
    "\n",
    "mat = [[0,0,0],\n",
    "       [0,1,0],\n",
    "       [1,1,1]]\n",
    "# Output: [[0,0,0],\n",
    "#          [0,1,0],\n",
    "#          [1,2,1]]\n",
    "\n",
    "row = len(mat)\n",
    "col = len(mat[0])\n",
    "\n",
    "visited = set()\n",
    "q = deque()\n",
    "\n",
    "# 주어진 mat에서 0들이 위치한 좌표를 visited와 q에 담아준다.\n",
    "for i in range(row):\n",
    "    for j in range(col):\n",
    "        if mat[i][j] == 0:\n",
    "            visited.add((i, j))\n",
    "            q.append((i, j))\n",
    "\n",
    "dx = [-1, 1, 0, 0]\n",
    "dy = [0, 0, -1, 1]\n",
    "\n",
    "# bfs\n",
    "while q:\n",
    "    x, y = q.popleft()\n",
    "\n",
    "    for i in range(4):\n",
    "        nx = x + dx[i]\n",
    "        ny = y + dy[i]\n",
    "        if 0<=nx<row and 0<=ny<col and ((nx, ny) not in visited): # mat의 범위를 벗어나지 않으면서 아직 방문하지 않은 곳이면\n",
    "            mat[nx][ny] = mat[x][y] + 1 # 탐색 기준점의 값에 1을 더해서 할당해줌\n",
    "            visited.add((nx, ny))\n",
    "            q.append((nx, ny))\n",
    "\n",
    "print(mat)"
   ]
  }
 ],
 "metadata": {
  "kernelspec": {
   "display_name": "Python 3 (ipykernel)",
   "language": "python",
   "name": "python3"
  },
  "language_info": {
   "codemirror_mode": {
    "name": "ipython",
    "version": 3
   },
   "file_extension": ".py",
   "mimetype": "text/x-python",
   "name": "python",
   "nbconvert_exporter": "python",
   "pygments_lexer": "ipython3",
   "version": "3.9.7"
  }
 },
 "nbformat": 4,
 "nbformat_minor": 5
}
