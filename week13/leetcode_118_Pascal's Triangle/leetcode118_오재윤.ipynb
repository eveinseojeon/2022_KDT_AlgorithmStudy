{
 "cells": [
  {
   "cell_type": "code",
   "execution_count": null,
   "id": "29567014",
   "metadata": {},
   "outputs": [],
   "source": [
    "class Solution(object):\n",
    "    def generate(self, numRows):\n",
    "        \"\"\"\n",
    "        :type numRows: int\n",
    "        :rtype: List[List[int]]\n",
    "        \"\"\"\n",
    "        result = [[1]]\n",
    "        \n",
    "        if numRows >= 2:\n",
    "            result.append([1,1])\n",
    "        \n",
    "        if numRows >= 3:\n",
    "            for k in range(3, numRows+1):\n",
    "                temp = [1] * k\n",
    "                for i in range(1, k-2+1):\n",
    "                    temp[i] = result[k-2][i-1] + result[k-2][i]\n",
    "                result.append(temp)\n",
    "                             \n",
    "                \n",
    "        return result"
   ]
  }
 ],
 "metadata": {
  "kernelspec": {
   "display_name": "Python 3 (ipykernel)",
   "language": "python",
   "name": "python3"
  },
  "language_info": {
   "codemirror_mode": {
    "name": "ipython",
    "version": 3
   },
   "file_extension": ".py",
   "mimetype": "text/x-python",
   "name": "python",
   "nbconvert_exporter": "python",
   "pygments_lexer": "ipython3",
   "version": "3.9.7"
  }
 },
 "nbformat": 4,
 "nbformat_minor": 5
}
