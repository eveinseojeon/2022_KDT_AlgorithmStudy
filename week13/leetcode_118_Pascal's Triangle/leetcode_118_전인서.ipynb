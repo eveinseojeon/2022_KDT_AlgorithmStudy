{
 "cells": [
  {
   "cell_type": "markdown",
   "id": "3ef093e6",
   "metadata": {},
   "source": [
    "- 내가 푼 방법"
   ]
  },
  {
   "cell_type": "code",
   "execution_count": 4,
   "id": "b08a7928",
   "metadata": {},
   "outputs": [
    {
     "name": "stdout",
     "output_type": "stream",
     "text": [
      "[[1], [1, 1], [1, 2, 1], [1, 3, 3, 1], [1, 4, 6, 4, 1]]\n"
     ]
    }
   ],
   "source": [
    "numRows = 5\n",
    "# Output: [[1],[1,1],[1,2,1],[1,3,3,1],[1,4,6,4,1]]\n",
    "\n",
    "answer = [[1]]\n",
    "\n",
    "for i in range(1, numRows):\n",
    "    before = answer[-1] # 이전 행\n",
    "    temp = [1] # 현재 행 만들기\n",
    "    \n",
    "    for j in range(i-1):\n",
    "        temp.append(before[j] + before[j+1]) # 이전 행의 두 원소를 더해서 현재 행의 원소 만들기\n",
    "    \n",
    "    temp.append(1) # 마지막 원소는 1로 끝남\n",
    "    answer.append(temp)\n",
    "\n",
    "print(answer)"
   ]
  },
  {
   "cell_type": "markdown",
   "id": "c05e84e4",
   "metadata": {},
   "source": [
    "- 다른 사람의 조금 더 빠른 방법"
   ]
  },
  {
   "cell_type": "code",
   "execution_count": 6,
   "id": "58ac4ce2",
   "metadata": {},
   "outputs": [
    {
     "name": "stdout",
     "output_type": "stream",
     "text": [
      "[[1], [1, 1], [1, 2, 1], [1, 3, 3, 1], [1, 4, 6, 4, 1]]\n"
     ]
    }
   ],
   "source": [
    "numRows = 5\n",
    "# Output: [[1],[1,1],[1,2,1],[1,3,3,1],[1,4,6,4,1]]\n",
    "\n",
    "answer = [0] * numRows\n",
    "\n",
    "for i in range(numRows):\n",
    "    answer[i] = [0] * (i+1) # 위 코드에서 temp와 같음\n",
    "    answer[i][0] = 1 # 1로 시작\n",
    "    answer[i][i] = 1 # 1로 끝\n",
    "    \n",
    "    for j in range(1, i):\n",
    "        answer[i][j] = answer[i-1][j-1] + answer[i-1][j]\n",
    "\n",
    "print(answer)"
   ]
  }
 ],
 "metadata": {
  "kernelspec": {
   "display_name": "Python 3 (ipykernel)",
   "language": "python",
   "name": "python3"
  },
  "language_info": {
   "codemirror_mode": {
    "name": "ipython",
    "version": 3
   },
   "file_extension": ".py",
   "mimetype": "text/x-python",
   "name": "python",
   "nbconvert_exporter": "python",
   "pygments_lexer": "ipython3",
   "version": "3.9.7"
  }
 },
 "nbformat": 4,
 "nbformat_minor": 5
}
