{
 "cells": [
  {
   "cell_type": "markdown",
   "id": "ebed0ffc",
   "metadata": {},
   "source": [
    "- 구글링"
   ]
  },
  {
   "cell_type": "code",
   "execution_count": 5,
   "id": "387898fc",
   "metadata": {},
   "outputs": [
    {
     "name": "stdout",
     "output_type": "stream",
     "text": [
      "()(((()())(())()))(())\n",
      "17\n"
     ]
    }
   ],
   "source": [
    "sequences = list(input())\n",
    "answer = 0\n",
    "stack = []\n",
    "\n",
    "for i in range(len(sequences)):\n",
    "    if sequences[i] == '(':\n",
    "        stack.append('(')\n",
    "\n",
    "    else:\n",
    "        if sequences[i-1] == '(': \n",
    "            stack.pop()\n",
    "            answer += len(stack)\n",
    "\n",
    "        else:\n",
    "            stack.pop() \n",
    "            answer += 1 \n",
    "\n",
    "print(answer)"
   ]
  }
 ],
 "metadata": {
  "kernelspec": {
   "display_name": "Python 3 (ipykernel)",
   "language": "python",
   "name": "python3"
  },
  "language_info": {
   "codemirror_mode": {
    "name": "ipython",
    "version": 3
   },
   "file_extension": ".py",
   "mimetype": "text/x-python",
   "name": "python",
   "nbconvert_exporter": "python",
   "pygments_lexer": "ipython3",
   "version": "3.9.7"
  }
 },
 "nbformat": 4,
 "nbformat_minor": 5
}
