{
 "cells": [
  {
   "cell_type": "code",
   "execution_count": null,
   "id": "51f78f2d",
   "metadata": {},
   "outputs": [],
   "source": [
    "from collections import deque\n",
    "a, b, n, m = map(int, input().split())\n",
    "dp = dict()  # 각 돌의 최소 이동 횟수\n",
    "dp[n] = 0\n",
    "queue = deque([n])  # n에서 시작\n",
    "\n",
    "while queue:  # bfs 수행\n",
    "    curr = queue.popleft()\n",
    "\n",
    "    for i in {curr+1,curr-1,curr+a,curr-a,curr+b,curr-b,curr *a,curr*b}:  # +1칸, -1칸, +A칸, -A칸, +B칸, -B칸 이동\n",
    "        val = i\n",
    "        if 0 <= val <= 100000 and val not in dp:\n",
    "            dp[val] = dp[curr] + 1\n",
    "            queue.append(val)\n",
    "\n",
    "    if m in dp:  # m에 도달할 수 있는 경우\n",
    "        break  # 종료\n",
    "\n",
    "print(dp[m])"
   ]
  }
 ],
 "metadata": {
  "kernelspec": {
   "display_name": "Python 3 (ipykernel)",
   "language": "python",
   "name": "python3"
  },
  "language_info": {
   "codemirror_mode": {
    "name": "ipython",
    "version": 3
   },
   "file_extension": ".py",
   "mimetype": "text/x-python",
   "name": "python",
   "nbconvert_exporter": "python",
   "pygments_lexer": "ipython3",
   "version": "3.9.12"
  }
 },
 "nbformat": 4,
 "nbformat_minor": 5
}
