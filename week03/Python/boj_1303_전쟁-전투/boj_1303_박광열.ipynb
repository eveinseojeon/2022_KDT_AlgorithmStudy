{
 "cells": [
  {
   "cell_type": "code",
   "execution_count": null,
   "id": "580485d5",
   "metadata": {},
   "outputs": [],
   "source": [
    "import sys\n",
    "from collections import deque\n",
    "\n",
    "dx = [-1, 1, 0, 0]\n",
    "dy = [0, 0, -1, 1]\n",
    "\n",
    "def bfs(x,y,color):\n",
    "    queue = deque()\n",
    "    queue.append((x,y))\n",
    "    graph[x][y] = 0\n",
    "\n",
    "    cnt = 1\n",
    "    while queue:\n",
    "        x, y = queue.popleft()\n",
    "        for i in range(4):\n",
    "            nx=x+dx[i]\n",
    "            ny=y+dy[i]\n",
    "            if nx < 0 or ny < 0 or nx>=m or ny>=n:\n",
    "                continue\n",
    "            if graph[nx][ny] == color:\n",
    "                cnt+=1\n",
    "                graph[nx][ny] = 0\n",
    "                queue.append((nx,ny))\n",
    "    return cnt\n",
    "\n",
    "n, m = map(int,sys.stdin.readline().split())\n",
    "\n",
    "graph = [list(sys.stdin.readline().strip()) for _ in range(m)]\n",
    "\n",
    "sumW = 0\n",
    "sumB = 0\n",
    "\n",
    "for i in range(m):\n",
    "    for j in range(n):\n",
    "        if graph[i][j] == 'W':\n",
    "            sumW += pow(bfs(i,j,'W'),2)\n",
    "        elif graph[i][j] == 'B':\n",
    "            sumB += pow(bfs(i,j,'B'),2)\n",
    "\n",
    "print(sumW, sumB)"
   ]
  }
 ],
 "metadata": {
  "kernelspec": {
   "display_name": "Python 3 (ipykernel)",
   "language": "python",
   "name": "python3"
  },
  "language_info": {
   "codemirror_mode": {
    "name": "ipython",
    "version": 3
   },
   "file_extension": ".py",
   "mimetype": "text/x-python",
   "name": "python",
   "nbconvert_exporter": "python",
   "pygments_lexer": "ipython3",
   "version": "3.9.12"
  }
 },
 "nbformat": 4,
 "nbformat_minor": 5
}
