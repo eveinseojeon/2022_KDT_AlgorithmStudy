{
 "cells": [
  {
   "cell_type": "markdown",
   "id": "62cebfcf",
   "metadata": {},
   "source": [
    "### 나이트의 이동"
   ]
  },
  {
   "cell_type": "code",
   "execution_count": null,
   "id": "841e0a98",
   "metadata": {},
   "outputs": [],
   "source": [
    "from collections import deque\n",
    "import sys\n",
    "input = sys.stdin.readline\n",
    "dx = [-1, -2, -2, -1, 1, 2, 2, 1]\n",
    "dy = [2, 1, -1, -2, -2, -1, 1, 2]\n",
    "def bfs(sx, sy, ax, ay):\n",
    "    q = deque()\n",
    "    q.append([sx, sy])\n",
    "    s[sx][sy] = 1\n",
    "    while q:\n",
    "        a, b = q.popleft()\n",
    "        if a == ax and b == ay:\n",
    "            print(s[ax][ay] -1)\n",
    "            return\n",
    "        for i in range(8):\n",
    "            x = a + dx[i]\n",
    "            y = b + dy[i]\n",
    "            if 0 <= x < n and 0 <= y < n and s[x][y] == 0:\n",
    "                q.append([x, y])\n",
    "                s[x][y] = s[a][b] + 1\n",
    "                \n",
    "t = int(input())\n",
    "for i in range(t):\n",
    "    n = int(input())\n",
    "    sx, sy = map(int, input().split())\n",
    "    ax, ay = map(int, input().split())\n",
    "    s = [[0] * n for i in range(n)]\n",
    "    bfs(sx, sy, ax, ay)"
   ]
  }
 ],
 "metadata": {
  "kernelspec": {
   "display_name": "Python 3 (ipykernel)",
   "language": "python",
   "name": "python3"
  },
  "language_info": {
   "codemirror_mode": {
    "name": "ipython",
    "version": 3
   },
   "file_extension": ".py",
   "mimetype": "text/x-python",
   "name": "python",
   "nbconvert_exporter": "python",
   "pygments_lexer": "ipython3",
   "version": "3.9.12"
  }
 },
 "nbformat": 4,
 "nbformat_minor": 5
}
