{
 "cells": [
  {
   "cell_type": "code",
   "execution_count": 6,
   "id": "e175fd5a",
   "metadata": {},
   "outputs": [
    {
     "name": "stdout",
     "output_type": "stream",
     "text": [
      "1\n",
      "8\n",
      "0 0\n",
      "7 0\n",
      "5\n"
     ]
    }
   ],
   "source": [
    "from collections import deque\n",
    "\n",
    "dx = [-1, -2, -2, -1, 1, 2, 2, 1]\n",
    "dy = [-2, -1, 1, 2, 2, 1, -1, -2]\n",
    "\n",
    "def bfs(x, y, gx, gy):\n",
    "    queue = deque()\n",
    "    queue.append((x, y))\n",
    "    visited[x][y] = 1\n",
    "    \n",
    "    while queue:\n",
    "        x, y = queue.popleft()\n",
    "        \n",
    "        if x == gx and y == gy: # 목표 위치에 도달했으면\n",
    "            print(visited[x][y] - 1)\n",
    "            return\n",
    "\n",
    "        for i in range(8): # 8방향으로 이동 가능\n",
    "            nx = x + dx[i]\n",
    "            ny = y + dy[i]\n",
    "\n",
    "            if (0 <= nx < l) and (0 <= ny < l) and not visited[nx][ny]:\n",
    "                queue.append((nx, ny))\n",
    "                visited[nx][ny] = visited[x][y] + 1\n",
    "\n",
    "t = int(input())\n",
    "for _ in range(t):\n",
    "    l = int(input())\n",
    "    x, y = map(int, input().split())\n",
    "    gx, gy = map(int, input().split())\n",
    "    \n",
    "    if x == gx and y == gy:\n",
    "        print(0)\n",
    "        continue\n",
    "    \n",
    "    visited = [[0] * l for _ in range(l)]\n",
    "    bfs(x, y, gx, gy)\n"
   ]
  },
  {
   "cell_type": "code",
   "execution_count": null,
   "id": "f85367b0",
   "metadata": {},
   "outputs": [],
   "source": []
  }
 ],
 "metadata": {
  "kernelspec": {
   "display_name": "Python 3 (ipykernel)",
   "language": "python",
   "name": "python3"
  },
  "language_info": {
   "codemirror_mode": {
    "name": "ipython",
    "version": 3
   },
   "file_extension": ".py",
   "mimetype": "text/x-python",
   "name": "python",
   "nbconvert_exporter": "python",
   "pygments_lexer": "ipython3",
   "version": "3.9.7"
  }
 },
 "nbformat": 4,
 "nbformat_minor": 5
}
