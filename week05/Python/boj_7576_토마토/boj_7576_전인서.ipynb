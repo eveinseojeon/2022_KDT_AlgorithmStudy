{
 "cells": [
  {
   "cell_type": "code",
   "execution_count": 55,
   "id": "f85367b0",
   "metadata": {},
   "outputs": [
    {
     "name": "stdout",
     "output_type": "stream",
     "text": [
      "5 5\n",
      "-1 1 0 0 0\n",
      "0 -1 -1 -1 0\n",
      "0 -1 -1 -1 0\n",
      "0 -1 -1 -1 0\n",
      "0 0 0 0 0\n",
      "14\n"
     ]
    }
   ],
   "source": [
    "from collections import deque\n",
    "\n",
    "M, N = map(int, input().split())\n",
    "graph = [list(map(int, input().split())) for _ in range(N)]\n",
    "\n",
    "dr = [-1, 0, 1, 0]\n",
    "dc = [0, 1, 0, -1]\n",
    "\n",
    "def bfs():\n",
    "    while queue:\n",
    "        r, c = queue.popleft()\n",
    "\n",
    "        for i in range(4):\n",
    "            nr = r + dr[i]\n",
    "            nc = c + dc[i]\n",
    "            if (0 <= nr < N) and (0 <= nc < M) and (graph[nr][nc] == 0):\n",
    "                graph[nr][nc] = graph[r][c] + 1\n",
    "                queue.append((nr, nc))\n",
    "\n",
    "# 익은 토마토들의 좌표를 queue에 담는다.\n",
    "queue = deque()\n",
    "for r in range(N):\n",
    "    for c in range(M):\n",
    "        if graph[r][c] == 1:\n",
    "            queue.append((r, c))\n",
    "\n",
    "# 인접한 토마토들 익히기\n",
    "bfs()\n",
    "\n",
    "# 답 찾기\n",
    "def final():\n",
    "    answer = 0\n",
    "    for r in range(N):\n",
    "        for c in range(M):\n",
    "            if graph[r][c] == 0: # 익히지 못한 토마토가 있으면\n",
    "                return -1\n",
    "        answer = max(answer, max(graph[r]))\n",
    "    return (answer - 1)\n",
    "\n",
    "print(final())\n"
   ]
  },
  {
   "cell_type": "code",
   "execution_count": null,
   "id": "97ddd841",
   "metadata": {},
   "outputs": [],
   "source": []
  }
 ],
 "metadata": {
  "kernelspec": {
   "display_name": "Python 3 (ipykernel)",
   "language": "python",
   "name": "python3"
  },
  "language_info": {
   "codemirror_mode": {
    "name": "ipython",
    "version": 3
   },
   "file_extension": ".py",
   "mimetype": "text/x-python",
   "name": "python",
   "nbconvert_exporter": "python",
   "pygments_lexer": "ipython3",
   "version": "3.9.7"
  }
 },
 "nbformat": 4,
 "nbformat_minor": 5
}
