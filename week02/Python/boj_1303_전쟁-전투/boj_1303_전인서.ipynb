{
 "cells": [
  {
   "cell_type": "code",
   "execution_count": 18,
   "id": "430be7bd",
   "metadata": {
    "scrolled": true
   },
   "outputs": [
    {
     "name": "stdout",
     "output_type": "stream",
     "text": [
      "5 5\n",
      "WBWWW\n",
      "WWWWW\n",
      "BBBBB\n",
      "BBBWW\n",
      "WWWWW\n",
      "130 65\n"
     ]
    }
   ],
   "source": [
    "from collections import deque\n",
    "\n",
    "M, N = map(int, input().split())\n",
    "graph = [list(input()) for _ in range(M)]\n",
    "\n",
    "w, b = 0, 0\n",
    "dx = [-1, 1, 0, 0]\n",
    "dy = [0, 0, -1, 1]\n",
    "\n",
    "def bfs(x, y, color):\n",
    "    queue = deque()\n",
    "    queue.append((x,y))\n",
    "    graph[x][y] = 'O'\n",
    "    cnt = 1\n",
    "    \n",
    "    while queue:\n",
    "        x, y = queue.popleft()\n",
    "\n",
    "        for i in range(4):\n",
    "            nx = x + dx[i]\n",
    "            ny = y + dy[i]\n",
    "            if 0<=nx<N and 0<=ny<M and graph[nx][ny]==color:\n",
    "                queue.append((nx,ny))\n",
    "                graph[nx][ny] = 'O'\n",
    "                cnt += 1\n",
    "    \n",
    "    return cnt\n",
    "\n",
    "for i in range(N):\n",
    "    for j in range(M):\n",
    "        if graph[i][j] == 'W':\n",
    "            w += (bfs(i, j, 'W'))**2\n",
    "        elif graph[i][j] == 'B':\n",
    "            b += (bfs(i, j, 'B'))**2\n",
    "\n",
    "print(w, b)"
   ]
  }
 ],
 "metadata": {
  "kernelspec": {
   "display_name": "Python 3 (ipykernel)",
   "language": "python",
   "name": "python3"
  },
  "language_info": {
   "codemirror_mode": {
    "name": "ipython",
    "version": 3
   },
   "file_extension": ".py",
   "mimetype": "text/x-python",
   "name": "python",
   "nbconvert_exporter": "python",
   "pygments_lexer": "ipython3",
   "version": "3.9.7"
  }
 },
 "nbformat": 4,
 "nbformat_minor": 5
}
