{
 "cells": [
  {
   "cell_type": "code",
   "execution_count": null,
   "id": "3aa20b67",
   "metadata": {},
   "outputs": [],
   "source": [
    "bar_razor = list(input())\n",
    "answer = 0\n",
    "st = []\n",
    "\n",
    "for i in range(len(bar_razor)):\n",
    "    if bar_razor[i] == '(':\n",
    "        st.append('(')\n",
    "\n",
    "    else:\n",
    "        if bar_razor[i-1] == '(': \n",
    "            st.pop()\n",
    "            answer += len(st)\n",
    "\n",
    "        else:\n",
    "            st.pop() \n",
    "            answer += 1 \n",
    "\n",
    "print(answer)"
   ]
  }
 ],
 "metadata": {
  "kernelspec": {
   "display_name": "Python 3 (ipykernel)",
   "language": "python",
   "name": "python3"
  },
  "language_info": {
   "codemirror_mode": {
    "name": "ipython",
    "version": 3
   },
   "file_extension": ".py",
   "mimetype": "text/x-python",
   "name": "python",
   "nbconvert_exporter": "python",
   "pygments_lexer": "ipython3",
   "version": "3.9.12"
  }
 },
 "nbformat": 4,
 "nbformat_minor": 5
}
