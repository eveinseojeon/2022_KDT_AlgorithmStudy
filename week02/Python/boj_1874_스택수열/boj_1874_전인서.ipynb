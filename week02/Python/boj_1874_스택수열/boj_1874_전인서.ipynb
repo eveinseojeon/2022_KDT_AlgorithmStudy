{
 "cells": [
  {
   "cell_type": "markdown",
   "id": "a45e44b7",
   "metadata": {},
   "source": [
    "* 시간 초과 ㅠㅠ"
   ]
  },
  {
   "cell_type": "code",
   "execution_count": 24,
   "id": "1c3ce000",
   "metadata": {},
   "outputs": [
    {
     "name": "stdout",
     "output_type": "stream",
     "text": [
      "8\n",
      "4\n",
      "3\n",
      "6\n",
      "8\n",
      "7\n",
      "5\n",
      "2\n",
      "1\n",
      "+\n",
      "+\n",
      "+\n",
      "+\n",
      "-\n",
      "-\n",
      "+\n",
      "+\n",
      "-\n",
      "+\n",
      "+\n",
      "-\n",
      "-\n",
      "-\n",
      "-\n",
      "-\n"
     ]
    }
   ],
   "source": [
    "n = int(input())\n",
    "sequences = []\n",
    "for _ in range(n):\n",
    "    sequences.append(int(input()))\n",
    "\n",
    "stack = []\n",
    "answer = ''\n",
    "standard = 1\n",
    "\n",
    "for i in sequences:\n",
    "    if i not in stack:\n",
    "        for j in range(standard, i+1):\n",
    "            stack.append(j)\n",
    "            answer += '+'\n",
    "        standard = i+1\n",
    "    if i in stack:\n",
    "        stack.pop()\n",
    "        answer += '-'\n",
    "    \n",
    "if stack:\n",
    "    print('NO')\n",
    "else:\n",
    "    for i in answer:\n",
    "        print(i)"
   ]
  },
  {
   "cell_type": "markdown",
   "id": "6909be4e",
   "metadata": {},
   "source": [
    "- 구글링한 풀이"
   ]
  },
  {
   "cell_type": "code",
   "execution_count": 29,
   "id": "2adebe94",
   "metadata": {},
   "outputs": [
    {
     "name": "stdout",
     "output_type": "stream",
     "text": [
      "8\n",
      "4\n",
      "3\n",
      "6\n",
      "8\n",
      "7\n",
      "5\n",
      "2\n",
      "1\n",
      "+\n",
      "+\n",
      "+\n",
      "+\n",
      "-\n",
      "-\n",
      "+\n",
      "+\n",
      "-\n",
      "+\n",
      "+\n",
      "-\n",
      "-\n",
      "-\n",
      "-\n",
      "-\n"
     ]
    }
   ],
   "source": [
    "n = int(input())\n",
    "\n",
    "stack = []\n",
    "answer = []\n",
    "current = 1\n",
    "flag = 1\n",
    "\n",
    "for _ in range(n):\n",
    "    num = int(input())\n",
    "    \n",
    "    while current <= num:\n",
    "        stack.append(current)\n",
    "        answer.append('+')\n",
    "        current += 1\n",
    "    \n",
    "    if stack[-1] == num:\n",
    "        stack.pop()\n",
    "        answer.append('-')\n",
    "    else:\n",
    "        print('NO')\n",
    "        flag = 0\n",
    "        break\n",
    "\n",
    "if flag:\n",
    "    for i in answer:\n",
    "        print(i)"
   ]
  }
 ],
 "metadata": {
  "kernelspec": {
   "display_name": "Python 3 (ipykernel)",
   "language": "python",
   "name": "python3"
  },
  "language_info": {
   "codemirror_mode": {
    "name": "ipython",
    "version": 3
   },
   "file_extension": ".py",
   "mimetype": "text/x-python",
   "name": "python",
   "nbconvert_exporter": "python",
   "pygments_lexer": "ipython3",
   "version": "3.9.7"
  }
 },
 "nbformat": 4,
 "nbformat_minor": 5
}
