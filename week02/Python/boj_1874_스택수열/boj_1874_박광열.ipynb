{
 "cells": [
  {
   "cell_type": "code",
   "execution_count": null,
   "id": "b66bb51c",
   "metadata": {},
   "outputs": [],
   "source": [
    "n = int(input())\n",
    "stack, ans, find = [], [], True\n",
    "# 숫자 1부터 시작\n",
    "now = 1\n",
    "for _ in range(n):\n",
    "    num = int(input())\n",
    "    # 스택 쌓기 Push\n",
    "    while now <= num:\n",
    "        stack.append(now)\n",
    "        ans.append('+')\n",
    "        now += 1\n",
    "    # 스택 꺼내기 Pop\n",
    "    if stack[-1] == num:\n",
    "        stack.pop()\n",
    "        ans.append('-')\n",
    "    # 불가능한 경우\n",
    "    else:\n",
    "        find = False\n",
    "\n",
    "# 정답 출력\n",
    "if not find: # 불가능하다면\n",
    "    print('NO')\n",
    "else:\n",
    "    for i in ans: # 가능하다면\n",
    "        print(i)"
   ]
  }
 ],
 "metadata": {
  "kernelspec": {
   "display_name": "Python 3 (ipykernel)",
   "language": "python",
   "name": "python3"
  },
  "language_info": {
   "codemirror_mode": {
    "name": "ipython",
    "version": 3
   },
   "file_extension": ".py",
   "mimetype": "text/x-python",
   "name": "python",
   "nbconvert_exporter": "python",
   "pygments_lexer": "ipython3",
   "version": "3.9.12"
  }
 },
 "nbformat": 4,
 "nbformat_minor": 5
}
